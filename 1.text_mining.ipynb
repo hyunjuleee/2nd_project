{
 "cells": [
  {
   "cell_type": "code",
   "execution_count": 1,
   "id": "a4084fca-3b00-4d71-838a-7acb24ef2a7a",
   "metadata": {},
   "outputs": [],
   "source": [
    "import os\n",
    "import numpy as np\n",
    "import pandas as pd\n",
    "from kiwipiepy import Kiwi\n",
    "from kiwipiepy.utils import Stopwords\n",
    "from sklearn.feature_extraction.text import CountVectorizer\n",
    "from sklearn.feature_extraction.text import TfidfVectorizer"
   ]
  },
  {
   "cell_type": "code",
   "execution_count": 565,
   "id": "f5b83a2d-d534-42c8-9ccb-02f2d7a4ea79",
   "metadata": {},
   "outputs": [
    {
     "name": "stdout",
     "output_type": "stream",
     "text": [
      "C:\\Users\\h_j06\\Desktop\\DMF\\2nd_project\n"
     ]
    },
    {
     "name": "stderr",
     "output_type": "stream",
     "text": [
      "C:\\Users\\h_j06\\AppData\\Local\\Programs\\Python\\Python312\\Lib\\site-packages\\IPython\\core\\magics\\osm.py:417: UserWarning: This is now an optional IPython functionality, setting dhist requires you to install the `pickleshare` library.\n",
      "  self.shell.db['dhist'] = compress_dhist(dhist)[-100:]\n"
     ]
    }
   ],
   "source": [
    "cd .."
   ]
  },
  {
   "cell_type": "code",
   "execution_count": 566,
   "id": "4f0769ec-d0f2-44d1-9f6e-7bdc7ff638a3",
   "metadata": {},
   "outputs": [
    {
     "name": "stdout",
     "output_type": "stream",
     "text": [
      "C:\\Users\\h_j06\\Desktop\\DMF\\2nd_project\\분기별\n"
     ]
    }
   ],
   "source": [
    "cd 분기별"
   ]
  },
  {
   "cell_type": "code",
   "execution_count": 451,
   "id": "0913ca5e-9b53-4bbd-af15-30b4855916b6",
   "metadata": {
    "scrolled": true
   },
   "outputs": [
    {
     "data": {
      "text/plain": [
       "['media_data_CJB청주방송.xlsx',\n",
       " 'media_data_JIBS.xlsx',\n",
       " 'media_data_JTBC.xlsx',\n",
       " 'media_data_kbc광주방송.xlsx',\n",
       " 'media_data_KBS.xlsx',\n",
       " 'media_data_MBC.xlsx',\n",
       " 'media_data_MBN.xlsx',\n",
       " 'media_data_OSEN.xlsx',\n",
       " 'media_data_SBS Biz.xlsx',\n",
       " 'media_data_SBS.xlsx',\n",
       " 'media_data_TV조선.xlsx',\n",
       " 'media_data_YTN.xlsx',\n",
       " 'media_data_강원도민일보.xlsx',\n",
       " 'media_data_강원일보.xlsx',\n",
       " 'media_data_게임메카.xlsx',\n",
       " 'media_data_경기일보.xlsx',\n",
       " 'media_data_경향신문.xlsx',\n",
       " 'media_data_국민일보.xlsx',\n",
       " 'media_data_국제신문.xlsx',\n",
       " 'media_data_기자협회보.xlsx',\n",
       " 'media_data_노컷뉴스.xlsx',\n",
       " 'media_data_농민신문.xlsx',\n",
       " 'media_data_뉴스1.xlsx',\n",
       " 'media_data_뉴스타파.xlsx',\n",
       " 'media_data_뉴시스.xlsx',\n",
       " 'media_data_대구MBC.xlsx',\n",
       " 'media_data_대전일보.xlsx',\n",
       " 'media_data_더스쿠프.xlsx',\n",
       " 'media_data_더팩트.xlsx',\n",
       " 'media_data_데일리안.xlsx',\n",
       " 'media_data_동아사이언스.xlsx',\n",
       " 'media_data_동아일보.xlsx',\n",
       " 'media_data_디지털데일리.xlsx',\n",
       " 'media_data_디지털타임스.xlsx',\n",
       " 'media_data_레이디경향.xlsx',\n",
       " 'media_data_마이데일리.xlsx',\n",
       " 'media_data_매경이코노미.xlsx',\n",
       " 'media_data_매일경제.xlsx',\n",
       " 'media_data_매일신문.xlsx',\n",
       " 'media_data_머니S.xlsx',\n",
       " 'media_data_머니투데이.xlsx',\n",
       " 'media_data_문화일보.xlsx',\n",
       " 'media_data_미디어오늘.xlsx',\n",
       " 'media_data_부산일보.xlsx',\n",
       " 'media_data_블로터.xlsx',\n",
       " 'media_data_비즈워치.xlsx',\n",
       " 'media_data_서울경제.xlsx',\n",
       " 'media_data_서울신문.xlsx',\n",
       " 'media_data_세계일보.xlsx',\n",
       " 'media_data_스타뉴스.xlsx',\n",
       " 'media_data_스포츠경향.xlsx',\n",
       " 'media_data_스포츠동아.xlsx',\n",
       " 'media_data_스포츠서울.xlsx',\n",
       " 'media_data_스포츠조선.xlsx',\n",
       " 'media_data_시사IN.xlsx',\n",
       " 'media_data_시사저널.xlsx',\n",
       " 'media_data_신동아.xlsx',\n",
       " 'media_data_아시아경제.xlsx',\n",
       " 'media_data_아이뉴스24.xlsx',\n",
       " 'media_data_엑스포츠뉴스.xlsx',\n",
       " 'media_data_여성신문.xlsx',\n",
       " 'media_data_연합뉴스.xlsx',\n",
       " 'media_data_연합뉴스TV.xlsx',\n",
       " 'media_data_오마이뉴스.xlsx',\n",
       " 'media_data_월간 산.xlsx',\n",
       " 'media_data_이데일리.xlsx',\n",
       " 'media_data_이코노미스트.xlsx',\n",
       " 'media_data_일간스포츠.xlsx',\n",
       " 'media_data_일다.xlsx',\n",
       " 'media_data_전자신문.xlsx',\n",
       " 'media_data_전주MBC.xlsx',\n",
       " 'media_data_조선비즈.xlsx',\n",
       " 'media_data_조선일보.xlsx',\n",
       " 'media_data_조세일보.xlsx',\n",
       " 'media_data_주간경향.xlsx',\n",
       " 'media_data_주간동아.xlsx',\n",
       " 'media_data_주간조선.xlsx',\n",
       " 'media_data_중앙SUNDAY.xlsx',\n",
       " 'media_data_중앙일보.xlsx',\n",
       " 'media_data_지디넷코리아.xlsx',\n",
       " 'media_data_채널A.xlsx',\n",
       " 'media_data_코메디닷컴.xlsx',\n",
       " 'media_data_파이낸셜뉴스.xlsx',\n",
       " 'media_data_프레시안.xlsx',\n",
       " 'media_data_한겨레.xlsx',\n",
       " 'media_data_한겨레21.xlsx',\n",
       " 'media_data_한경비즈니스.xlsx',\n",
       " 'media_data_한국경제.xlsx',\n",
       " 'media_data_한국경제TV.xlsx',\n",
       " 'media_data_한국일보.xlsx',\n",
       " 'media_data_헤럴드경제.xlsx',\n",
       " 'media_group_1.xlsx',\n",
       " 'media_group_2.xlsx']"
      ]
     },
     "execution_count": 451,
     "metadata": {},
     "output_type": "execute_result"
    }
   ],
   "source": [
    "os.listdir()"
   ]
  },
  {
   "cell_type": "code",
   "execution_count": 567,
   "id": "92e28117-7e59-4537-9adf-e0e1626627ac",
   "metadata": {},
   "outputs": [],
   "source": [
    "df = pd.read_excel('Q0_20150701_to_20240630.xlsx')\n",
    "\n",
    "df_title = df['title']\n",
    "df_body = df['body']"
   ]
  },
  {
   "cell_type": "code",
   "execution_count": 568,
   "id": "5e01e18b-821a-4a15-9513-cf5522e43550",
   "metadata": {},
   "outputs": [
    {
     "name": "stdout",
     "output_type": "stream",
     "text": [
      "<class 'pandas.core.frame.DataFrame'>\n",
      "RangeIndex: 10831 entries, 0 to 10830\n",
      "Data columns (total 5 columns):\n",
      " #   Column  Non-Null Count  Dtype         \n",
      "---  ------  --------------  -----         \n",
      " 0   media   10831 non-null  object        \n",
      " 1   date    10831 non-null  datetime64[ns]\n",
      " 2   title   10831 non-null  object        \n",
      " 3   body    10819 non-null  object        \n",
      " 4   link    10831 non-null  object        \n",
      "dtypes: datetime64[ns](1), object(4)\n",
      "memory usage: 423.2+ KB\n"
     ]
    }
   ],
   "source": [
    "df.info()"
   ]
  },
  {
   "cell_type": "code",
   "execution_count": 569,
   "id": "802049aa-2a94-473f-b705-699b029389ad",
   "metadata": {},
   "outputs": [],
   "source": [
    "# # Unnamed: 0 컬럼을 drop하여 제거\n",
    "# df.drop(['Unnamed: 0'], axis = 1, inplace = True)\n",
    "# df.head()"
   ]
  },
  {
   "cell_type": "code",
   "execution_count": 570,
   "id": "f25ad7ca-414a-41f3-a997-4c6c284f704c",
   "metadata": {},
   "outputs": [
    {
     "data": {
      "text/plain": [
       "'ㆍ다가올 역사, 서양 문명의 몰락ㆍ나오미 오레스케스 외 지음·홍한별 옮김갈라파고스 | 192쪽 | 1만원아직 다가오지 않은 미래를 상상하는 것은 어쩌면 인간의 본능일지도 모른다. 새로운 기술이 선사할 변화에 대한 상상을 바탕으로 한 사이언스픽션(SF)이 문학·영화·만화를 통틀어 확고한 장르로 자리매김했을 정도이니 말이다.\\n\\n\\n\\n300년 후의 미래를 담고 있는 이 책은 가장 ‘리얼’한 SF이다. 지구온난화로 서양 문명이 완전히 몰락한다는 가정을 과학적 근거로 뒷받침하고 있다. 과장된 디스토피아적 상상이라고 치부하기에는 너무 사실적이라 충격을 던진다. 대학에서 과학사를 가르치고 연구하는 저자들은 사실과 학설, 예측과 주장을 적절하게 섞어 쉽고 대중적인 글쓰기를 보여준다.‘300년 후’라니 아득하게만 느껴지는가. 하지만 책에는 놀라운 기시감을 안겨주는 대목이 많다. 기후변화에 관한 정부협의체(IPCC) 등 전문가들의 숱한 경고에도 변함없는 탄소연소 복합체와 셰일가스 붐, 지구온난화 위험이 지나치게 부풀려졌다는 과학계 일각의 주장, 정치 지도자들의 미온적 대응. 바로 지금 벌어지는 일들이다.저자들의 말을 빌리면 우리는 ‘반암흑기’의 한가운데를 지나고 있다. 이후부터는 파국의 시작이다. 2023년이 되면 이례적인 폭염으로 50만명이 사망하지만, 오히려 실내온도를 조절하기 위해 더 많은 에너지를 소비한다. 대기 중 이산화탄소가 2배로 늘어나는 2040년에 이르면 혹서와 가뭄은 일상이 된다. 식량과 물이 바닥나고, 곤충이 폭증하며, 신종 전염병이 퍼진다. 이 무렵 미국과 캐나다가 합병해 ‘북미합중국’을 만든다. 유엔기후변화협약이 실패로 돌아가면서 유엔은 해산하고, 빙하가 수원(水源)인 스위스와 인도가 연대한다.기후변화는 점차 빠른 속도로 생태계와 국경에 균열을 가져온다. 2060년이면 북극의 만년설과 북극곰이 사라진다. 2093년까지는 빙하의 90%가 무너지고, 해수면이 7m 이상 상승한다. 지구 전체 인구의 5명 중 1명꼴인 15억명이 삶의 터전을 빼앗기고 먼 곳으로 이동한다. 그렇게 서구 문명이 붕괴한다.책을 덮으면 막막한 심정이 든다. 그럴 땐 저자들이 묘사하는 “다급한데도 여유를 부리는” 정치 지도자들, 그리고 탄소중립사회로 옮겨가기는커녕 화석연료 생산을 늘리는 부유한 국가들을 떠올리면 어떨까. 재앙을 멈추거나 적어도 늦출 수 있는 기회는 결국 정치에 있다는 실마리를 얻게 될 것이다.<김유진 기자 yjkim@kyunghyang.com>\\n 모바일 경향 [경향 뉴스진 | 경향신문 앱 | 모바일웹] | 공식 SNS 계정 [경향 트위터] [페이스북] [세상과 경향의 소통 커뮤니티]- ⓒ 경향신문(www.khan.co.kr), 무단전재 및 재배포 금지〈경향신문은 한국온라인신문협회(www.kona.or.kr)의 디지털뉴스이용규칙에 따른 저작권을 행사합니다.〉'"
      ]
     },
     "execution_count": 570,
     "metadata": {},
     "output_type": "execute_result"
    }
   ],
   "source": [
    "sens = df_body\n",
    "i = 0\n",
    "# 원본 문서의 첫 번째 원소 확인\n",
    "sens.iloc[i]"
   ]
  },
  {
   "cell_type": "code",
   "execution_count": 571,
   "id": "0643964e-2dc0-4665-913e-375d6f6afd10",
   "metadata": {},
   "outputs": [],
   "source": [
    "# sens에서 지정한 패턴이 아닌 글자를 공백으로 변경하고 sens에 재할당\n",
    "sens = sens.str.replace(pat = '[^가-힣A-Za-z0-9.]|&.+;', repl = '', regex = True)"
   ]
  },
  {
   "cell_type": "code",
   "execution_count": 572,
   "id": "8cb20215-98cd-46b3-b382-ff2ea753210c",
   "metadata": {},
   "outputs": [
    {
     "data": {
      "text/plain": [
       "'다가올역사서양문명의몰락나오미오레스케스외지음홍한별옮김갈라파고스192쪽1만원아직다가오지않은미래를상상하는것은어쩌면인간의본능일지도모른다.새로운기술이선사할변화에대한상상을바탕으로한사이언스픽션SF이문학영화만화를통틀어확고한장르로자리매김했을정도이니말이다.300년후의미래를담고있는이책은가장리얼한SF이다.지구온난화로서양문명이완전히몰락한다는가정을과학적근거로뒷받침하고있다.과장된디스토피아적상상이라고치부하기에는너무사실적이라충격을던진다.대학에서과학사를가르치고연구하는저자들은사실과학설예측과주장을적절하게섞어쉽고대중적인글쓰기를보여준다.300년후라니아득하게만느껴지는가.하지만책에는놀라운기시감을안겨주는대목이많다.기후변화에관한정부협의체IPCC등전문가들의숱한경고에도변함없는탄소연소복합체와셰일가스붐지구온난화위험이지나치게부풀려졌다는과학계일각의주장정치지도자들의미온적대응.바로지금벌어지는일들이다.저자들의말을빌리면우리는반암흑기의한가운데를지나고있다.이후부터는파국의시작이다.2023년이되면이례적인폭염으로50만명이사망하지만오히려실내온도를조절하기위해더많은에너지를소비한다.대기중이산화탄소가2배로늘어나는2040년에이르면혹서와가뭄은일상이된다.식량과물이바닥나고곤충이폭증하며신종전염병이퍼진다.이무렵미국과캐나다가합병해북미합중국을만든다.유엔기후변화협약이실패로돌아가면서유엔은해산하고빙하가수원인스위스와인도가연대한다.기후변화는점차빠른속도로생태계와국경에균열을가져온다.2060년이면북극의만년설과북극곰이사라진다.2093년까지는빙하의90가무너지고해수면이7m이상상승한다.지구전체인구의5명중1명꼴인15억명이삶의터전을빼앗기고먼곳으로이동한다.그렇게서구문명이붕괴한다.책을덮으면막막한심정이든다.그럴땐저자들이묘사하는다급한데도여유를부리는정치지도자들그리고탄소중립사회로옮겨가기는커녕화석연료생산을늘리는부유한국가들을떠올리면어떨까.재앙을멈추거나적어도늦출수있는기회는결국정치에있다는실마리를얻게될것이다.김유진기자yjkimkyunghyang.com모바일경향경향뉴스진경향신문앱모바일웹공식SNS계정경향트위터페이스북세상과경향의소통커뮤니티경향신문www.khan.co.kr무단전재및재배포금지경향신문은한국온라인신문협회www.kona.or.kr의디지털뉴스이용규칙에따른저작권을행사합니다.'"
      ]
     },
     "execution_count": 572,
     "metadata": {},
     "output_type": "execute_result"
    }
   ],
   "source": [
    "# sens의 첫 번째 원소와 비교\n",
    "sens[i]"
   ]
  },
  {
   "cell_type": "markdown",
   "id": "98865d92-7f99-4640-ae09-711d17f7a47c",
   "metadata": {},
   "source": [
    "### 형태소 분석"
   ]
  },
  {
   "cell_type": "code",
   "execution_count": 573,
   "id": "5f69e133-e17e-4e2c-9d9e-77a0912dedf8",
   "metadata": {},
   "outputs": [],
   "source": [
    "# 내장 불용어 객체 생성\n",
    "# [참고] 내장 불용어 객체의 stopwords 속성으로 불용어 목록 확인 가능\n",
    "kiwistop = Stopwords()\n",
    "words = [('기후', 'NNG'), ('위기', 'NNG'), ('환경', 'NNG'), ('변화', 'NNG'), ('기자', 'NNG'), ('무단', 'NNG'),\n",
    "         ('재배포', 'NNP'), ('금지', 'NNG'), ('있', 'VA'), ('네이버', 'NNP'), ('전재', 'NNG'), ('및', 'MAG'),\n",
    "         ('페이스북', 'NNP'), ('트위터', 'NNP'), ('뉴스', 'NNG'), ('구독', 'NNG'), ('메인', 'NNG'), ('서울', 'NNP'),\n",
    "         ('저작', 'NNG'), ('연합', 'NNG'), ('기사', 'NNG'), ('속보', 'NNG'), ('울산', 'NNP'), ('보기', 'NNG'), \n",
    "         ('클릭', 'NNG'), ('채널', 'NNG'), ('배포', 'NNG'), ('경향신문', 'NNP'), ('연합뉴스', 'NNP'), ('뉴시스', 'NNP'),\n",
    "         ('세계일보', 'NNP'), ('전자신문', 'NNP'), ('문화일보', 'NNP'), ('매경이코노미', 'NNP'), ('KBS', 'NNP'), ('뉴스1', 'NNP'),\n",
    "         ('프레시안', 'NNP'), ('조선일보', 'NNP'), ('오마이뉴스', 'NNP'), ('MBC', 'NNP'), ('국민일보', 'NNP'), ('미디어오늘', 'NNP'),\n",
    "         ('한겨레', 'NNP'), ('아시아경제', 'NNP'), ('중앙일보', 'NNP'), ('동아일보', 'NNP'), ('한국일보', 'NNP'), ('노컷뉴스', 'NNP'),\n",
    "         ('매일신문', 'NNP'), ('헤럴드경제', 'NNP'), ('부산일보', 'NNP'), ('YTN', 'NNP'), ('파이낸셜뉴스', 'NNP'), ('데일리안', 'NNP'),\n",
    "         ('머니S', 'NNP'), ('여성신문', 'NNP'), ('서울신문', 'NNP'), ('중앙SUNDAY', 'NNP'), ('머니투데이', 'NNP'), ('서울경제', 'NNP'),\n",
    "         ('디지털타임스', 'NNP'), ('매일경제', 'NNP'), ('이데일리', 'NNP'), ('일다', 'NNP'), ('시사저널', 'NNP'), ('JTBC', 'NNP'),\n",
    "         ('주간경향', 'NNP'), ('더팩트', 'NNP'), ('SBS', 'NNP'), ('한겨레21', 'NNP'), ('스포츠서울', 'NNP'), ('한국경제TV', 'NNP'),\n",
    "         ('한국경제', 'NNP'), ('지디넷코리아', 'NNP'), ('기자협회보', 'NNP'), ('TV조선', 'NNP'), ('연합뉴스TV', 'NNP'),\n",
    "         ('조선비즈', 'NNP'), ('스포츠조선', 'NNP'), ('시사IN', 'NNP'), ('아이뉴스24', 'NNP'), ('강원일보', 'NNP'),\n",
    "         ('엑스포츠뉴스', 'NNP'), ('동아사이언스', 'NNP'), ('스타뉴스', 'NNP'), ('한경비즈니스', 'NNP'), ('MBN', 'NNP'),\n",
    "         ('마이데일리', 'NNP'), ('SBS Biz', 'NNP'), ('코메디닷컴', 'NNP'), ('스포츠경향', 'NNP'), ('디지털데일리', 'NNP'),\n",
    "         ('이코노미스트', 'NNP'), ('스포츠동아', 'NNP'), ('조세일보', 'NNP'), ('채널A', 'NNP'), ('강원도민일보', 'NNP'),\n",
    "         ('레이디경향', 'NNP'), ('국제신문', 'NNP'), ('CJB청주방송', 'NNP'), ('대전일보', 'NNP'), ('전주MBC', 'NNP'), ('JIBS', 'NNP'),\n",
    "         ('대구MBC', 'NNP'), ('kbc광주방송', 'NNP'), ('블로터', 'NNP'), ('농민신문', 'NNP'), ('게임메카', 'NNP'), ('비즈워치', 'NNP'),\n",
    "         ('일간스포츠', 'NNP'), ('주간조선', 'NNP'), ('경기일보', 'NNP'), ('OSEN', 'NNP'), ('신동아', 'NNP'), ('더스쿠프', 'NNP'),\n",
    "         ('주간동아', 'NNP'), ('월간 산', 'NNP'), ('뉴스타파', 'NNP'),\n",
    "        ]\n",
    "kiwistop.add(words)"
   ]
  },
  {
   "cell_type": "code",
   "execution_count": 574,
   "id": "f840fe45-d37d-417c-a169-86da310bfb3d",
   "metadata": {},
   "outputs": [],
   "source": [
    "words = ['경향신문', '연합뉴스', '뉴시스', '세계일보', '전자신문', '문화일보', '매경이코노미', 'KBS', '뉴스1',\n",
    "       '프레시안', '조선일보', '오마이뉴스', 'MBC', '국민일보', '미디어오늘', '한겨레', '아시아경제', '중앙일보',\n",
    "       '동아일보', '한국일보', '노컷뉴스', '매일신문', '헤럴드경제', '부산일보', 'YTN', '파이낸셜뉴스',\n",
    "       '데일리안', '머니S', '여성신문', '서울신문', '중앙SUNDAY', '머니투데이', '서울경제', '디지털타임스',\n",
    "       '매일경제', '이데일리', '일다', '시사저널', 'JTBC', '주간경향', '더팩트', 'SBS', '한겨레21',\n",
    "       '스포츠서울', '한국경제TV', '한국경제', '지디넷코리아', '기자협회보', 'TV조선', '연합뉴스TV', '조선비즈',\n",
    "       '스포츠조선', '시사IN', '아이뉴스24', '강원일보', '엑스포츠뉴스', '동아사이언스', '스타뉴스', '한경비즈니스',\n",
    "       'MBN', '마이데일리', 'SBS Biz', '코메디닷컴', '스포츠경향', '디지털데일리', '이코노미스트',\n",
    "       '스포츠동아', '조세일보', '채널A', '강원도민일보', '레이디경향', '국제신문', 'CJB청주방송', '대전일보',\n",
    "       '전주MBC', 'JIBS', '대구MBC', 'kbc광주방송', '블로터', '농민신문', '게임메카', '비즈워치',\n",
    "       '일간스포츠', '주간조선', '경기일보', 'OSEN', '신동아', '더스쿠프', '주간동아', '월간 산', '뉴스타파', '재배포',\n",
    "        ]\n",
    "\n",
    "# 반복문으로 사용자 사전에 단어를 추가\n",
    "# [참고] score 매개변수에 전달하는 인수의 값이 클수록 하나의 형태소로 처리(기본값: 0)\n",
    "# 한글 형태소 분석기 설정\n",
    "# [참고] typos 매개변수에 'basic'을 지정하면 내장된 오타 정보로 문장 교정\n",
    "kiwi = Kiwi()\n",
    "for word in words:\n",
    "    kiwi.add_user_word(word = word, tag = 'NNP', score = 15)"
   ]
  },
  {
   "cell_type": "code",
   "execution_count": 544,
   "id": "8ea335fb-be9c-40bd-bc24-02e204c0321d",
   "metadata": {
    "scrolled": true
   },
   "outputs": [
    {
     "data": {
      "text/plain": [
       "[]"
      ]
     },
     "execution_count": 544,
     "metadata": {},
     "output_type": "execute_result"
    }
   ],
   "source": [
    "# sens의 첫 번째 원소로 형태소 분석\n",
    "# [참고] 형태소 분석 결과에서 불용어 제거\n",
    "kiwi.tokenize(text = sens[i], stopwords = kiwistop)\n",
    "t = '경향신문연합뉴스뉴시스세계일보전자신문문화일보매경이코노미KBS뉴스1프레시안조선일보오마이뉴스MBC국민일보미디어오늘한겨레아시아경제중앙일보동아일보한국일보노컷뉴스매일신문헤럴드경제부산일보YTN파이낸셜뉴스데일리안머니S여성신문서울신문중앙SUNDAY머니투데이서울경제디지털타임스매일경제이데일리일다시사저널JTBC주간경향더팩트SBS한겨레21스포츠서울한국경제TV한국경제지디넷코리아기자협회보TV조선연합뉴스TV조선비즈스포츠조선시사IN아이뉴스24강원일보엑스포츠뉴스동아사이언스스타뉴스한경비즈니스MBN마이데일리SBSBiz코메디닷컴스포츠경향디지털데일리이코노미스트'\n",
    "kiwi.tokenize(text=t, stopwords=kiwistop)"
   ]
  },
  {
   "cell_type": "code",
   "execution_count": 545,
   "id": "26008ae9-c46b-4a00-9e85-2825c7f3d71b",
   "metadata": {
    "scrolled": true
   },
   "outputs": [
    {
     "data": {
      "text/plain": [
       "[Token(form='글로벌', tag='NNG', start=0, len=3),\n",
       " Token(form='이슈', tag='NNG', start=3, len=2),\n",
       " Token(form='국제', tag='NNG', start=5, len=2),\n",
       " Token(form='사회', tag='NNG', start=7, len=2),\n",
       " Token(form='인류', tag='NNG', start=9, len=2),\n",
       " Token(form='직면', tag='NNG', start=12, len=2),\n",
       " Token(form='위험', tag='NNG', start=15, len=2),\n",
       " Token(form='좀', tag='MAG', start=18, len=1),\n",
       " Token(form='정확히', tag='MAG', start=20, len=3),\n",
       " Token(form='표현', tag='NNG', start=23, len=2),\n",
       " Token(form='지구', tag='NNG', start=25, len=2),\n",
       " Token(form='온난', tag='NNG', start=27, len=2),\n",
       " Token(form='끓어오르', tag='VV', start=31, len=4),\n",
       " Token(form='ᆫ다는', tag='ETM', start=34, len=3),\n",
       " Token(form='의미', tag='NNG', start=37, len=2),\n",
       " Token(form='지구', tag='NNG', start=40, len=2),\n",
       " Token(form='백열', tag='NNG', start=42, len=2),\n",
       " Token(form='국제', tag='NNG', start=46, len=2),\n",
       " Token(form='사회', tag='NNG', start=48, len=2),\n",
       " Token(form='climatechange', tag='SL', start=56, len=13),\n",
       " Token(form='대신', tag='NNG', start=69, len=2),\n",
       " Token(form='climatecrisis', tag='SL', start=75, len=13),\n",
       " Token(form='용어', tag='NNG', start=90, len=2),\n",
       " Token(form='사용', tag='NNG', start=93, len=2),\n",
       " Token(form='ᆫ다는', tag='ETM', start=97, len=3),\n",
       " Token(form='목소리', tag='NNG', start=100, len=3),\n",
       " Token(form='높아지', tag='VV', start=104, len=3),\n",
       " Token(form='지구', tag='NNG', start=111, len=2),\n",
       " Token(form='수준', tag='NNG', start=121, len=2),\n",
       " Token(form='넘', tag='VV', start=124, len=1),\n",
       " Token(form='상황', tag='NNG', start=128, len=2),\n",
       " Token(form='놓이', tag='VV', start=131, len=2),\n",
       " Token(form='인류', tag='NNG', start=137, len=2),\n",
       " Token(form='직면', tag='NNG', start=140, len=2),\n",
       " Token(form='위험', tag='NNG', start=143, len=2),\n",
       " Token(form='좀', tag='MAG', start=147, len=1),\n",
       " Token(form='정확', tag='NNG', start=149, len=2),\n",
       " Token(form='표현', tag='NNG', start=153, len=2),\n",
       " Token(form='ᆫ다는', tag='ETM', start=157, len=3),\n",
       " Token(form='취지', tag='NNG', start=160, len=2),\n",
       " Token(form='영국', tag='NNP', start=164, len=2),\n",
       " Token(form='일간지', tag='NNG', start=166, len=3),\n",
       " Token(form='가디언', tag='NNP', start=169, len=3),\n",
       " Token(form='지난달', tag='NNG', start=173, len=3),\n",
       " Token(form='17', tag='SN', start=176, len=2),\n",
       " Token(form='앞', tag='NNG', start=179, len=1),\n",
       " Token(form='란', tag='ETM', start=186, len=1),\n",
       " Token(form='표현', tag='NNG', start=187, len=2),\n",
       " Token(form='대신', tag='NNG', start=189, len=2),\n",
       " Token(form='비상사태', tag='NNG', start=193, len=4),\n",
       " Token(form='emergency', tag='SL', start=197, len=9),\n",
       " Token(form='실패', tag='NNG', start=212, len=2),\n",
       " Token(form='breakdown', tag='SL', start=214, len=9),\n",
       " Token(form='사용', tag='NNG', start=225, len=2),\n",
       " Token(form='선언', tag='NNG', start=231, len=2),\n",
       " Token(form='독자', tag='NNG', start=236, len=2),\n",
       " Token(form='과학', tag='NNG', start=241, len=2),\n",
       " Token(form='좀', tag='MAG', start=246, len=1),\n",
       " Token(form='엄밀', tag='XR', start=248, len=2),\n",
       " Token(form='이슈', tag='NNG', start=254, len=2),\n",
       " Token(form='전달', tag='NNG', start=257, len=2),\n",
       " Token(form='어서다', tag='EF', start=262, len=3),\n",
       " Token(form='캐서린', tag='NNP', start=266, len=3),\n",
       " Token(form='바이', tag='NNP', start=269, len=2),\n",
       " Token(form='너', tag='NP', start=271, len=1),\n",
       " Token(form='가디언', tag='NNP', start=272, len=3),\n",
       " Token(form='편집장', tag='NNG', start=275, len=3),\n",
       " Token(form='란', tag='ETM', start=283, len=1),\n",
       " Token(form='표현', tag='NNG', start=284, len=2),\n",
       " Token(form='수동', tag='NNG', start=287, len=2),\n",
       " Token(form='온화', tag='XR', start=292, len=2),\n",
       " Token(form='느낌', tag='NNG', start=295, len=2),\n",
       " Token(form='주', tag='VV', start=298, len=1),\n",
       " Token(form='ᆫ다면서', tag='EC', start=298, len=4),\n",
       " Token(form='이', tag='NR', start=302, len=1),\n",
       " Token(form='상황', tag='NNG', start=308, len=2),\n",
       " Token(form='인류', tag='NNG', start=311, len=2),\n",
       " Token(form='재앙', tag='NNG', start=315, len=2),\n",
       " Token(form='가져오', tag='VV', start=318, len=3),\n",
       " Token(form='과학자', tag='NNG', start=325, len=3),\n",
       " Token(form='견해', tag='NNG', start=330, len=2),\n",
       " Token(form='차이', tag='NNG', start=334, len=2),\n",
       " Token(form='지적', tag='NNG', start=340, len=2),\n",
       " Token(form='전문가', tag='NNG', start=347, len=3),\n",
       " Token(form='가디언', tag='NNP', start=352, len=3),\n",
       " Token(form='선언', tag='NNG', start=356, len=2),\n",
       " Token(form='환영', tag='NNG', start=359, len=2),\n",
       " Token(form='미국', tag='NNP', start=366, len=2),\n",
       " Token(form='전문', tag='NNG', start=370, len=2),\n",
       " Token(form='미디어', tag='NNG', start=372, len=3),\n",
       " Token(form='그린', tag='NNG', start=375, len=2),\n",
       " Token(form='비즈', tag='NNG', start=377, len=2),\n",
       " Token(form='GreenBiz', tag='SL', start=379, len=8),\n",
       " Token(form='조엘', tag='NNP', start=388, len=2),\n",
       " Token(form='매', tag='NNG', start=390, len=1),\n",
       " Token(form='코어', tag='NNG', start=391, len=2),\n",
       " Token(form='총괄', tag='NNG', start=393, len=2),\n",
       " Token(form='편집자', tag='NNG', start=395, len=3),\n",
       " Token(form='많', tag='VA', start=399, len=1),\n",
       " Token(form='항상', tag='MAG', start=407, len=2),\n",
       " Token(form='변하', tag='VV', start=409, len=2),\n",
       " Token(form='생각', tag='NNG', start=415, len=2),\n",
       " Token(form='란', tag='ETM', start=426, len=1),\n",
       " Token(form='단어', tag='NNG', start=427, len=2),\n",
       " Token(form='어도', tag='EC', start=430, len=2),\n",
       " Token(form='그렇', tag='VA-I', start=432, len=2),\n",
       " Token(form='뭐하', tag='VV', start=435, len=2),\n",
       " Token(form='별일', tag='NNG', start=438, len=2),\n",
       " Token(form='처럼', tag='JKB', start=443, len=2),\n",
       " Token(form='생각', tag='NNG', start=445, len=2),\n",
       " Token(form='ᆫ다면서', tag='EC', start=447, len=4),\n",
       " Token(form='대신', tag='NNG', start=455, len=2),\n",
       " Token(form='란', tag='ETM', start=461, len=1),\n",
       " Token(form='표현', tag='NNG', start=462, len=2),\n",
       " Token(form='쓰', tag='VV', start=465, len=1),\n",
       " Token(form='ᆫ다는', tag='ETM', start=467, len=3),\n",
       " Token(form='데', tag='NNB', start=470, len=1),\n",
       " Token(form='동의', tag='NNG', start=471, len=2),\n",
       " Token(form='표', tag='NNG', start=474, len=1),\n",
       " Token(form='런던', tag='NNG', start=478, len=2),\n",
       " Token(form='유니버시티', tag='NNG', start=480, len=5),\n",
       " Token(form='칼리지', tag='NNG', start=485, len=3),\n",
       " Token(form='UCL', tag='SL', start=488, len=3),\n",
       " Token(form='마크', tag='NNG', start=492, len=2),\n",
       " Token(form='매스', tag='NNG', start=494, len=2),\n",
       " Token(form='ᆯ', tag='JKO', start=495, len=1),\n",
       " Token(form='린', tag='NNG', start=496, len=1),\n",
       " Token(form='학교', tag='NNG', start=499, len=2),\n",
       " Token(form='수', tag='NNG', start=501, len=1),\n",
       " Token(form='인류', tag='NNG', start=503, len=2),\n",
       " Token(form='직면', tag='NNG', start=506, len=2),\n",
       " Token(form='거대', tag='NNG', start=509, len=2),\n",
       " Token(form='과제', tag='NNG', start=512, len=2),\n",
       " Token(form='논의', tag='NNG', start=515, len=2),\n",
       " Token(form='데', tag='NNB', start=519, len=1),\n",
       " Token(form='쓰이', tag='VV', start=520, len=2),\n",
       " Token(form='단어', tag='NNG', start=523, len=2),\n",
       " Token(form='반드시', tag='MAG', start=526, len=3),\n",
       " Token(form='긴박', tag='XR', start=530, len=2),\n",
       " Token(form='ᆷ', tag='ETN', start=532, len=1),\n",
       " Token(form='중요', tag='NNG', start=534, len=2),\n",
       " Token(form='반영', tag='NNG', start=538, len=2),\n",
       " Token(form='ᆫ다면서', tag='EC', start=542, len=4),\n",
       " Token(form='가디언', tag='NNP', start=546, len=3),\n",
       " Token(form='이번', tag='NNG', start=550, len=2),\n",
       " Token(form='방침', tag='NNG', start=552, len=2),\n",
       " Token(form='세상', tag='NNG', start=555, len=2),\n",
       " Token(form='시대', tag='NNG', start=558, len=2),\n",
       " Token(form='정신', tag='NNG', start=560, len=2),\n",
       " Token(form='변하', tag='VV', start=563, len=2),\n",
       " Token(form='음', tag='ETN', start=565, len=1),\n",
       " Token(form='명료', tag='XR', start=567, len=2),\n",
       " Token(form='보이', tag='VV', start=571, len=2),\n",
       " Token(form='ᆫ다고', tag='EC', start=573, len=3),\n",
       " Token(form='평하', tag='VV', start=576, len=2),\n",
       " Token(form='한편', tag='NNG', start=580, len=2),\n",
       " Token(form='더불', tag='VV', start=587, len=2),\n",
       " Token(form='지구', tag='NNG', start=590, len=2),\n",
       " Token(form='온난', tag='NNG', start=592, len=2),\n",
       " Token(form='globalwarming', tag='SL', start=595, len=13),\n",
       " Token(form='다른', tag='MM', start=609, len=2),\n",
       " Token(form='표현', tag='NNG', start=611, len=2),\n",
       " Token(form='대체', tag='NNG', start=615, len=2),\n",
       " Token(form='ᆫ다는', tag='ETM', start=619, len=3),\n",
       " Token(form='의견', tag='NNG', start=622, len=2),\n",
       " Token(form='나오', tag='VV', start=625, len=2),\n",
       " Token(form='지구', tag='NNG', start=629, len=2),\n",
       " Token(form='천천히', tag='MAG', start=632, len=3),\n",
       " Token(form='데우', tag='VV', start=635, len=2),\n",
       " Token(form='warming', tag='SL', start=642, len=7),\n",
       " Token(form='대신', tag='NNG', start=649, len=2),\n",
       " Token(form='뜨겁', tag='VA-I', start=651, len=2),\n",
       " Token(form='끓어오르', tag='VV', start=654, len=4),\n",
       " Token(form='heating', tag='SL', start=662, len=7),\n",
       " Token(form='쓰', tag='VV', start=670, len=1),\n",
       " Token(form='자는', tag='ETM', start=671, len=2),\n",
       " Token(form='최재천', tag='NNP', start=681, len=3),\n",
       " Token(form='이화여대', tag='NNP', start=684, len=4),\n",
       " Token(form='에코', tag='NNG', start=688, len=2),\n",
       " Token(form='과학부', tag='NNG', start=690, len=3),\n",
       " Token(form='교수', tag='NNG', start=693, len=2),\n",
       " Token(form='heating', tag='SL', start=696, len=7),\n",
       " Token(form='우리말', tag='NNG', start=704, len=3),\n",
       " Token(form='바꾸', tag='VV', start=708, len=2),\n",
       " Token(form='ᆫ다면', tag='EC', start=709, len=3),\n",
       " Token(form='물체', tag='NNG', start=712, len=2),\n",
       " Token(form='흰색', tag='NNG', start=715, len=2),\n",
       " Token(form='가깝', tag='VA-I', start=718, len=3),\n",
       " Token(form='빛', tag='NNG', start=721, len=1),\n",
       " Token(form='내', tag='VV', start=723, len=1),\n",
       " Token(form='정도', tag='NNG', start=724, len=2),\n",
       " Token(form='온도', tag='NNG', start=727, len=2),\n",
       " Token(form='몹시', tag='MAG', start=730, len=2),\n",
       " Token(form='높', tag='VA', start=732, len=1),\n",
       " Token(form='상태', tag='NNG', start=734, len=2),\n",
       " Token(form='뜻하', tag='VV', start=737, len=2),\n",
       " Token(form='백열', tag='NNG', start=740, len=2),\n",
       " Token(form='단어', tag='NNG', start=745, len=2),\n",
       " Token(form='쓰', tag='VV', start=748, len=1),\n",
       " Token(form='백열', tag='NNG', start=750, len=2),\n",
       " Token(form='정도', tag='NNG', start=753, len=2),\n",
       " Token(form='부르', tag='VV', start=756, len=2),\n",
       " Token(form='좋', tag='VA', start=759, len=1),\n",
       " Token(form='한', tag='XPN', start=767, len=1),\n",
       " Token(form='승', tag='NNG', start=768, len=1),\n",
       " Token(form='희', tag='NNG', start=769, len=1),\n",
       " Token(form='낫', tag='VA-I', start=771, len=1),\n",
       " Token(form='미래', tag='NNG', start=773, len=2),\n",
       " Token(form='heehanchosun', tag='SL', start=777, len=12),\n",
       " Token(form='comCopyrights', tag='SL', start=790, len=13),\n",
       " Token(form='c', tag='SL', start=807, len=1),\n",
       " Token(form='hosun.com', tag='SL', start=808, len=9),\n",
       " Token(form='받', tag='VV-R', start=838, len=1),\n",
       " Token(form='조선닷컴', tag='NNP', start=842, len=4),\n",
       " Token(form='바로', tag='MAG', start=846, len=2),\n",
       " Token(form='가', tag='VV', start=848, len=1),\n",
       " Token(form='신청', tag='NNG', start=856, len=2)]"
      ]
     },
     "execution_count": 545,
     "metadata": {},
     "output_type": "execute_result"
    }
   ],
   "source": [
    "# sens의 첫 번째 원소로 형태소 분석 결과를 tokens에 할당\n",
    "# [참고] 사용자 사전에 추가한 단어 반영 여부 확인\n",
    "tokens = kiwi.tokenize(text = sens[i], stopwords = kiwistop)\n",
    "\n",
    "# tokens 확인\n",
    "tokens"
   ]
  },
  {
   "cell_type": "code",
   "execution_count": 546,
   "id": "bc8cb64e-1721-485b-b880-1fdd73e7cb0c",
   "metadata": {},
   "outputs": [
    {
     "name": "stdout",
     "output_type": "stream",
     "text": [
      "형태: 글로벌\n",
      "품사: NNG\n"
     ]
    }
   ],
   "source": [
    "# tokens의 첫 번째 원소에서 형태소의 형태와 품사 확인\n",
    "print(f'형태: {tokens[0].form}')\n",
    "print(f'품사: {tokens[0].tag}')"
   ]
  },
  {
   "cell_type": "code",
   "execution_count": 547,
   "id": "4bbfafa3-d0be-45f5-bd01-7a83f5b4eb3a",
   "metadata": {},
   "outputs": [],
   "source": [
    "# 텍스트 분석에 사용할 품사(용언과 체언) 목록을 리스트로 생성\n",
    "pos1, pos2 = ['VV', 'VA'], ['NNG', 'NNP']\n",
    "# pos1 = ['VV', 'VA']"
   ]
  },
  {
   "cell_type": "code",
   "execution_count": 548,
   "id": "23e23db9-b854-4808-bd28-97b4765bf521",
   "metadata": {
    "scrolled": true
   },
   "outputs": [
    {
     "data": {
      "text/plain": [
       "['글로벌',\n",
       " '이슈',\n",
       " '국제',\n",
       " '사회',\n",
       " '인류',\n",
       " '직면',\n",
       " '위험',\n",
       " '표현',\n",
       " '지구',\n",
       " '온난',\n",
       " '끓어오르다',\n",
       " '의미',\n",
       " '지구',\n",
       " '백열',\n",
       " '국제',\n",
       " '사회',\n",
       " '대신',\n",
       " '용어',\n",
       " '사용',\n",
       " '목소리',\n",
       " '높아지다',\n",
       " '지구',\n",
       " '수준',\n",
       " '넘다',\n",
       " '상황',\n",
       " '놓이다',\n",
       " '인류',\n",
       " '직면',\n",
       " '위험',\n",
       " '정확',\n",
       " '표현',\n",
       " '취지',\n",
       " '영국',\n",
       " '일간지',\n",
       " '가디언',\n",
       " '지난달',\n",
       " '앞',\n",
       " '표현',\n",
       " '대신',\n",
       " '비상사태',\n",
       " '실패',\n",
       " '사용',\n",
       " '선언',\n",
       " '독자',\n",
       " '과학',\n",
       " '이슈',\n",
       " '전달',\n",
       " '캐서린',\n",
       " '바이',\n",
       " '가디언',\n",
       " '편집장',\n",
       " '표현',\n",
       " '수동',\n",
       " '느낌',\n",
       " '주다',\n",
       " '상황',\n",
       " '인류',\n",
       " '재앙',\n",
       " '가져오다',\n",
       " '과학자',\n",
       " '견해',\n",
       " '차이',\n",
       " '지적',\n",
       " '전문가',\n",
       " '가디언',\n",
       " '선언',\n",
       " '환영',\n",
       " '미국',\n",
       " '전문',\n",
       " '미디어',\n",
       " '그린',\n",
       " '비즈',\n",
       " '조엘',\n",
       " '매',\n",
       " '코어',\n",
       " '총괄',\n",
       " '편집자',\n",
       " '많다',\n",
       " '변하다',\n",
       " '생각',\n",
       " '단어',\n",
       " '뭐하다',\n",
       " '별일',\n",
       " '생각',\n",
       " '대신',\n",
       " '표현',\n",
       " '쓰다',\n",
       " '동의',\n",
       " '표',\n",
       " '런던',\n",
       " '유니버시티',\n",
       " '칼리지',\n",
       " '마크',\n",
       " '매스',\n",
       " '린',\n",
       " '학교',\n",
       " '수',\n",
       " '인류',\n",
       " '직면',\n",
       " '거대',\n",
       " '과제',\n",
       " '논의',\n",
       " '쓰이다',\n",
       " '단어',\n",
       " '중요',\n",
       " '반영',\n",
       " '가디언',\n",
       " '이번',\n",
       " '방침',\n",
       " '세상',\n",
       " '시대',\n",
       " '정신',\n",
       " '변하다',\n",
       " '보이다',\n",
       " '평하다',\n",
       " '한편',\n",
       " '더불다',\n",
       " '지구',\n",
       " '온난',\n",
       " '표현',\n",
       " '대체',\n",
       " '의견',\n",
       " '나오다',\n",
       " '지구',\n",
       " '데우다',\n",
       " '대신',\n",
       " '끓어오르다',\n",
       " '쓰다',\n",
       " '최재천',\n",
       " '이화여대',\n",
       " '에코',\n",
       " '과학부',\n",
       " '교수',\n",
       " '우리말',\n",
       " '바꾸다',\n",
       " '물체',\n",
       " '흰색',\n",
       " '빛',\n",
       " '내다',\n",
       " '정도',\n",
       " '온도',\n",
       " '높다',\n",
       " '상태',\n",
       " '뜻하다',\n",
       " '백열',\n",
       " '단어',\n",
       " '쓰다',\n",
       " '백열',\n",
       " '정도',\n",
       " '부르다',\n",
       " '좋다',\n",
       " '승',\n",
       " '희',\n",
       " '미래',\n",
       " '조선닷컴',\n",
       " '가다',\n",
       " '신청']"
      ]
     },
     "execution_count": 548,
     "metadata": {},
     "output_type": "execute_result"
    }
   ],
   "source": [
    "# 형태소의 품사가 용언과 체언인 형태소만 선택하고 품사가 용언인 형태소에 \n",
    "# 종결어미 '다'를 결합하여 리스트로 반환\n",
    "tokens = [token.form + '다' if token.tag in pos1 else token.form \n",
    "          for token in tokens if token.tag in pos1 + pos2]\n",
    "# tokens = [token.form + '다' if token.tag in pos1 else token.form \n",
    "          # for token in tokens if token.tag in pos1]\n",
    "# tokens 확인\n",
    "tokens"
   ]
  },
  {
   "cell_type": "code",
   "execution_count": 549,
   "id": "663f0a07-ff4b-44e7-ae4d-d8217e314ec6",
   "metadata": {},
   "outputs": [],
   "source": [
    "# 말뭉치를 저장할 빈 리스트 생성\n",
    "corpus = list()\n",
    "\n",
    "for sen in sens:\n",
    "    if isinstance(sen, str):  # 문자열인 경우에만 처리\n",
    "        tokens = kiwi.tokenize(text=sen, stopwords=kiwistop)\n",
    "        tokens = [token.form + '다' if token.tag in pos1 else token.form \n",
    "                  for token in tokens if token.tag in pos1 + pos2]\n",
    "                  # for token in tokens if token.tag in pos1]\n",
    "        corpus.append(tokens)\n",
    "    else:\n",
    "        print(f\"Skipping non-string value: {sen}\")"
   ]
  },
  {
   "cell_type": "code",
   "execution_count": 550,
   "id": "2a6ea877-4c42-422b-afd2-a3908ce63287",
   "metadata": {
    "scrolled": true
   },
   "outputs": [
    {
     "name": "stdout",
     "output_type": "stream",
     "text": [
      "['글로벌', '이슈', '국제', '사회', '인류', '직면', '위험', '표현', '지구', '온난', '끓어오르다', '의미', '지구', '백열', '국제', '사회', '대신', '용어', '사용', '목소리', '높아지다', '지구', '수준', '넘다', '상황', '놓이다', '인류', '직면', '위험', '정확', '표현', '취지', '영국', '일간지', '가디언', '지난달', '앞', '표현', '대신', '비상사태', '실패', '사용', '선언', '독자', '과학', '이슈', '전달', '캐서린', '바이', '가디언', '편집장', '표현', '수동', '느낌', '주다', '상황', '인류', '재앙', '가져오다', '과학자', '견해', '차이', '지적', '전문가', '가디언', '선언', '환영', '미국', '전문', '미디어', '그린', '비즈', '조엘', '매', '코어', '총괄', '편집자', '많다', '변하다', '생각', '단어', '뭐하다', '별일', '생각', '대신', '표현', '쓰다', '동의', '표', '런던', '유니버시티', '칼리지', '마크', '매스', '린', '학교', '수', '인류', '직면', '거대', '과제', '논의', '쓰이다', '단어', '중요', '반영', '가디언', '이번', '방침', '세상', '시대', '정신', '변하다', '보이다', '평하다', '한편', '더불다', '지구', '온난', '표현', '대체', '의견', '나오다', '지구', '데우다', '대신', '끓어오르다', '쓰다', '최재천', '이화여대', '에코', '과학부', '교수', '우리말', '바꾸다', '물체', '흰색', '빛', '내다', '정도', '온도', '높다', '상태', '뜻하다', '백열', '단어', '쓰다', '백열', '정도', '부르다', '좋다', '승', '희', '미래', '조선닷컴', '가다', '신청']\n",
      "['경희대학교', '오다', '화', '목', '세계', '평화', '날', '기념', '이하', '개최', '올해', '주제', '미래', '세대', '미래', '진실', '정치', '반기문', '사무총장', '이리나 보코바', '경희대', '미원', '석좌', '교수', '세계', '지도자', '터', '담', '스다', '케임브리지', '대학교', '교수', '이안', '던롭', '로마', '클럽', '회원', '경희대', '방문', '세계', '평화', '날', '경희대', '학교', '세계', '평화', '날', '해', '경희대', '설립자', '미원', '조영식', '박사', '세계', '대학', '총장', '회', '코스타리카', '정부', '제안', '해', '총회', '회원국', '전원', '일치', '제정', '당시', '총회', '결의문', '은', '국가', '시민', '평화', '이상', '기념', '고양', '세계', '평화', '날', '제정', '회원국', '산하', '기관', '기구', '기구', '협력', '하', '교육', '수단', '세계', '평화', '날', '의미', '되새기다', '권유', '선언', '화요일', '세계', '평화', '날', '세계', '평화', '해', '제정', '경희대', '세계', '평화', '날', '해', '제정', '기념', '국제', '학술회의', '열다', '국제', '학술회의', '확대', '미래', '문명', '길', '모색', '지구촌', '평화', '축제', '정신', '물질', '풍요', '인간', '보람', '지구', '공동', '사회', '만들다', '뜻', '담다', '세계', '평화', '날', '제정', '기념', '이번', '미래', '세대', '미래', '진실', '정치', '주제', '재앙', '실존', '위협', '다루다', '지금', '재앙', '국면', '초래', '세계사', '사', '문명사', '살펴보다', '미래', '세대', '담론', '정치', '해결책', '찾다', '재앙', '속', '미래', '세대', '다양', '논의', '진행', '국제', '사회', '인류', '당면', '최대', '실존', '위협', '뜻', '모으다', '.기후', '학자', '지구', '평균', '기온', '산업', '혁명', '이전', '이상', '올라가다', '세계', '재앙', '오다', '예측', '도', '이상', '상승', '지구', '생명', '멸종', '현실', '지구', '벗어나다', '전환', '필요', '성장', '패러다임', '지속', '패러다임', '바꾸다', '인류', '문명', '존속', '가능', '모르다', '현실정치', '기성세대', '미온', '태도', '절망', '미래', '세대', '거리', '나서다', '지난해', '중학', '소녀', '그레타 툰베리', '스웨덴', '국회', '의사당', '앞', '등교', '거부', '문구', '담다', '피켓', '들다', '인', '시위', '시작', '지난해', '기', '후', '협약', '당사국', '총회', '어른', '아이', '미래', '항변', '.툰베리', '절규', '세계', '청소년', '등교', '거부', '적극', '대응', '촉구', '거리', '시위', '동참', '세계', '평화', '날', '기념식', '기념', '포럼', '원탁', '회의', '개최', '세계', '지성', '시민', '사회', '연대', '대응', '기성세대', '미래', '세대', '문제', '의식', '공유', '자리', '인류', '당면', '크다', '난제', '풀다', '실천', '지혜', '모색', '피스', '바', '포럼', '원탁회의', '진행', '일정', '다음', '오후', '평화', '전당', '로비', '피스', '바', '포럼', '개최', '.주제', '피터', '담', '스다', '교수', '이안', '던롭', '로마', '클럽', '회원', '학생', '기획단', '패널', '나서다', '포럼', '석학', '미래', '세대', '학생', '심층', '진단', '인류', '문명', '미치다', '파급', '미래', '세대', '대응', '방안', '찾다', '다음날', '목', '오전', '세계', '평화', '날', '기념식', '원탁회의', '진행', '기념식', '세계', '평화', '날', '제정', '배경', '의미', '소개', '영상', '상영', '시작', '이리나 보코바', '석좌', '교수', '행사장', '찾다', '축하', '메시지', '전하다', '후', '미래', '세대', '전언', '담다', '영상', '상영', '조', '인원', '학교', '법인', '경희학원', '이사장', '기념사', '경희대', '음악', '대학', '축하', '공연', '이어지다', '국내외', '석학', '정치인', '실천가', '자리', '모이다', '급박', '알리다', '원탁회의', '오후', '미래', '세대', '미래', '진실', '정치', '주제', '개최', '원탁회의', '그레타 툰베리', '절규', '주목', '그레타 툰베리', '인', '시위', '담다', '메시지', '지속', '미래', '잃어버리다', '의식', '원탁회의', '기조', '발제', '원탁회의', '진행', '.기조발제', '반기문', '사무총장', '피터', '담', '스다', '교수', '이안', '던롭', '회원', '담당', '원탁회의', '이리나 보코바', '석좌', '교수', '좌장', '기조', '발제자', '조인원', '이사장', '국내외', '석학', '정치인', '실천가', '한자리', '모이다', '열리다', '대화', '나누다', '과학', '근거', '토대', '급박', '일깨우다', '한편', '문제', '해결책', '다각도', '모색', '특별', '전시회', '후', '타스', '칼리지', '세계', '평화', '주간', '기념식', '기념', '백일장', '개최', '특별', '전시회', '준비', '개최', '목', '경희대', '평화', '전당', '열리다', '인류세', '브라질', '한국', '예술가', '생태학', '상상', '인류', '세', '문제', '이야기', '전시회', '일민미술관', '기획', '이번', '전시', '드로잉', '설치', '퍼포먼스', '시대', '상황', '미래', '전망', '다양', '활동', '인식', '라운지', '프로젝트', '인류', '주제', '영상', '작품', '선보이다', '스다', '크다', '리닝', '프로그램', '구성', '이번', '전시', '무료', '관람', '경희대', '후', '마니', '타스', '칼리지', '학생', '다양', '행사', '마련', '.후마니타스', '칼리지', '화', '캠퍼스', '청운', '관', '앞마당', '국제', '캠퍼스', '멀티미디어', '관', '후', '타스', '칼리지', '세계', '평화', '주간', '기념식', '개최', '이후', '일금', '세계', '시민', '교육', '평화', '교육', '전시회', '세계', '평화', '날', '기념', '백일장', '경희', '평화', '나무', '캔버스', '모듈', '설치', '미술', '경희', '탐방', '평화', '운동', '사진전', '경희', '평화', '포럼', '개최', '온라인', '홈페이지', '친구', '추가']\n",
      "['경희대', '이달', '세계', '평화', '날', '기념', '르', '개최', '올해', '주제', '미래', '세대', '미래', '진실', '정치', '반기문', '유엔', '사무총장', '이리나 보코바', '경희대', '미원', '석좌', '교수', '피터', '담', '스다', '케임브리지대', '교수', '이안', '던롭', '로마', '클럽', '회원', '경희대', '방문', '세계', '평화', '날', '해', '경희대', '설립자', '미원', '조영식', '박사', '세계', '대학', '총장', '회', '코스타리카', '정부', '유엔', '제안', '그해', '유엔', '총회', '회원국', '전원', '찬성', '제정', '유엔', '화요일', '세계', '평화', '날', '세계', '평화', '해', '제정', '경희대', '세계', '평화', '날', '해', '제정', '기념', '국제', '학술회의', '열다', '국제', '학술회의', '확대', '미래', '문명', '길', '모색', '지구촌', '평화', '축제', '정신', '물질', '풍요', '인간', '보람', '지구', '공동', '사회', '만들다', '뜻', '담다', '재앙', '실존', '위협', '다루다', '지금', '재앙', '국면', '초래', '세계사', '사', '문명사', '살펴보다', '미래', '세대', '담론', '정치', '해결책', '찾다', '피스', '바', '포럼', '원탁회의', '진행', '개최', '기간', '경희대', '평화', '전당', '열리다', '인류세', '특별', '전시회', '열리다', '브라질', '한국', '예술가', '생태학', '상상', '인류', '세', '문제', '이야기', '전시회', '일민미술관', '기획', '이번', '전시', '무료', '관람', '단독', '트렌드', '홈']\n",
      "['스웨덴', '세기', '후', '운동가', '그레타 툰베리', '뉴욕', '열리다', '유엔', '협약', '회의', '참석', '영국', '플리머스', '출발', '대서양', '건너다', '지난달', '미국', '뉴욕', '도착', '금요일', '유럽', '아시아', '국', '청소년', '파업', '벌이다', '학생', '등교', '거부', '시내', '모이다', '시위', '벌이다', '청소년', '정보', '모으다', '웹사이트', '검색', '과학', '저널', '읽다', '교사', '질문', '던지다', '청소년', '지구', '이름', '그레타', '손', '팻말', '들다', '팻', '주인공', '그레타 툰베리', '올해', '운동가', '노벨', '평화상', '후보', '그레타', '부모', '교사', '기성', '세대', '따지다', '어쩌다', '화석', '연료', '해', '알다', '사용', '자신', '자손', '구하다', '인류', '위험', '상황', '처하다', '알다', '정도', '과학', '발달', '시대', '살다', '핑계', '대다', '허비', '시간', '필요', '희망', '행동', '행동', '나서다', '희망', '품다', '맞다', '알다', '문제', '문제', '발생', '해결', '방법', '알다', '눈치', '빠르다', '독자', '알아차리다', '요즘', '지구', '온난', '언론', '회자', '사실', '온난', '좋다', '들리다', '따뜻하다', '살다', '좋다', '좋다', '표현', '피하다', '현실', '표현', '과학자', '용어', '쓰다', '.기후', '붕괴', '비상', '사태', '등장', '.기후', '원인', '지구', '기온', '상승', '파리', '정상', '회담', '산업', '이후', '지구', '기온', '상승', '막다', '인천', '열리다', '관하다', '정부', '협의체', '상승', '폭', '정하다', '산업', '혁명', '이후', '지나다', '동안', '지구', '평균', '기온', '상승', '가지다', '.라', '생각', '속도', '전', '마지막', '빙하기', '간빙기', '속도', '배', '이상', '빠르다', '추세', '시', '속', '달리다', '차', '시속', '달리다', '상황', '생각', '감당', '상승', '지구', '심각하다', '빠지다', '상승', '파국', '늦다', '인간', '개과천선', '이산화탄소', '배출', '상승', '다음', '소용', '걱정', '상승', '많다', '시간', '남다', '생각', '세계', '오늘', '양', '이산화', '탄소', '배출', '후', '닥치다', '글', '읽다', '독자', '활동', '알다', '이산화탄소', '배출', '줄이다', '줄이다', '이산화탄소', '배출', '줄이다', '줄이다', '다음', '세대', '배출', '이산화탄소', '남다', '미래', '세대', '이산화탄소', '당기다', '쓰다', '진실', '알다', '행동', '나서다', '화석', '연료', '이상', '태우다', '사실', '알다', '화석', '연료', '포기', '당장', '나', '다음', '세대', '추정', '분노', '다음', '세대', '그레타', '동료', '청소년', '외치다', '청소년', '어른', '올바르다', '계속', '부담', '주다', '바라다', '다행', '일부', '어른', '부담', '느끼다', '시작', '뉴욕', '유엔', '정상', '회담', '열리다', '안토니우 구테흐스', '유엔', '사무총장', '각국', '정상', '지구', '기온', '상승', '막다', '계획', '발표', '요청', '각국', '정상', '계획', '들다', '뉴욕', '모이다', '궁금하다', '크다', '기대', '어른', '부담', '느끼다', '세계', '각국', '시민', '단체', '일주일', '동안', '파업', '선언', '나라', '비상', '행동', '청소년', '행동', '계획', '경기', '시민', '혜화동', '대학로', '모이다', '시민', '정치', '의지', '사회', '바꾸다', '벗어나다', '시민', '그레타', '외치다', '파업', '기성', '세대', '세대', '사이', '연대', '맺다', '계기', '보이다', '벗어나다', '다음', '세대', '살', '터전', '남기다', '첫걸음', '시작', '시민', '촉구', '정부', '발맞추다', '움직이다', '이정모', '시립', '과학', '관장', '친구', '맺다', '홈', '가다']\n",
      "['비상', '행동', '집회', '청소년', '행동', '시위', '학교', '빠지다', '참석', '예정', '지나다', '미국', '워싱턴', '백악관', '앞', '대응', '촉구', '금요일', '진행', '미래', '금요일', '집회', '참가', '스웨덴', '대', '운동가', '그레타 툰베리', '모이다', '시민', '앞', '발언', '대응', '요구', '규모', '집회', '전국', '열리다', '청소년', '등교', '거부', '집회', '열다', '예정', '시민', '단체', '모이다', '비상', '행동', '오후', '종로구', '혜화동', '혜화역', '앞', '비상', '행동', '집회', '열다', '정부', '책임', '온실가스', '대책', '요구', '밝히다', '이번', '집회', '미국', '뉴욕', '열리다', '유엔', '행동', '정상', '회의', '앞두다', '세계', '단체', '시민', '동시', '다발', '진행', '행사', '영국', '현지', '시각', '오전', '미국', '오후', '각지', '글로벌', '파업', '이름', '아래', '단체', '행동', '이어지다', '국내', '오후', '인천', '충남', '전국', '각지', '집회', '예정', '예정', '비상', '행동', '집회', '개요', '.기후위기비', '행동', '종각역', '퍼포먼스', '지나다', '독일', '베를린', '대응', '촉구', '시민', '바닥', '이인', '퍼포먼스', '펼치다', '비상', '행동', '단체', '노동', '단체', '종교', '사회', '분야', '단체', '개인', '참여', '예정자', '넘다', '모이다', '예상', '밝히다', '혜화역', '오후', '집회', '연', '뒤', '종각역', '행진', '죽다', '시위', '행동', '퍼포먼스', '펼치다', '예정', '비상', '행동', '요구', '사항', '대통령', '인정', '비상', '선언', '온실', '가스', '배출', '제로', '계획', '수립', '국민', '공유', '대응', '독립', '사회', '기구', '설립', '대통령', '정상', '회담', '참석', '지나다', '청와대', '발표', '이루다', '침묵', '깨다', '농민', '노동자', '청소년', '나다', '지나다', '종로구', '세종문화회관', '앞', '열리다', '청소년', '행동', '대응', '촉구', '집회', '퍼포먼스', '어린이', '이번', '집회', '참여', '운동', '침묵', '상황', '한국', '일상', '대응', '정책', '마련', '신호탄', '좋다', '밝히다', '한국', '온실가스', '계획', '전무', '온도', '상승', '제한', '목표', '장기', '배출', '제로', '달성', '과감하다', '정책', '필요', '촉구', '권우', '활동가', '국내', '온실가스', '대응책', '삶', '이후', '지속', '거대담론', '문제', '청소년', '농민', '노동', '다양', '영역', '개인', '목소리', '내다', '바탕', '정치', '움직이다', '강조', '그린피스', '사무소', '유지연', '시민', '참여', '캠', '페이', '서구', '시민', '행동', '정부', '어젠다', '이어지다', '우리나라', '미온', '정부', '기업', '온실가스', '배출', '막다', '책임', '행동', '적극', '요구', '밝히다', '결석', '시위', '청소년', '참여', '뉴욕', '도착', '대', '운동가', '그레타 툰베리', '버락', '오바마', '대통령', '만나다', '인사', '나누다', '다음', '주', '금요일', '청소년', '행동', '주관', '결석', '시위', '예정', '전국', '학생', '등교', '거부', '세종로', '공원', '대응', '촉구', '집회', '열다', '예정', '지나다', '대응', '촉구', '집회', '청소년기', '후', '행동', '김', '보', '림', '활동가', '청소년', '목소리', '대응', '나서다', '우리나라', '많다', '움직임', '커지다', '기대감', '커지다', '이번', '결석', '시위', '청소년', '행동', '끝나다', '결국', '정부', '나서다', '온실가스', '제로', '추진', '메시지', '밝히다', '.기후', '해결', '요구', '파업', '형태', '액션', '스웨덴', '출신', '대', '운동가', '크레타', '베리', '시작', '.턴베리', '지난해', '대응', '요구', '금요일', '등교', '거부', '스웨덴', '국회', '앞', '인', '시위', '벌이다', '기', '후', '행동', '정상', '회의', '연설', '지난달', '뉴욕', '도착', '베리', '백악관', '앞', '인', '시위', '벌이다', '오바마', '대통령', '회동', '갖다', '.툰베리', '대응', '목소리', '내다', '공로', '인정', '지나다', '국제앰네스티', '양심', '대사', '상', '올해', '노벨', '평화상', '후보', '오르다', '김정연', '홈페이지', '친구', '추가']\n"
     ]
    }
   ],
   "source": [
    "# 형태소 분석 결과(corpus)의 처음 5개 원소 확인\n",
    "# [참고] 원본 문서와 결과를 비교하여 사용자 사전에 추가하는 것을 반복해야 함\n",
    "for i in range(5):\n",
    "    print(corpus[i])"
   ]
  },
  {
   "cell_type": "code",
   "execution_count": 551,
   "id": "587f8b39-0011-47ab-8966-166eb299b1d6",
   "metadata": {
    "scrolled": true
   },
   "outputs": [
    {
     "name": "stdout",
     "output_type": "stream",
     "text": [
      "[글로벌 이슈] 국제사회 \"인류가 직면한 위험성, 좀더 정확히 표현\"'지구온난화'는 끓어오른다는 의미의 '지구백열화'로국제사회에서 '기후변화(climate change)' 대신 '기후 위기(climate crisis)'라는 용어를 사용해야 한다는 목소리가 높아지고 있다. 지구의 기후가 '변화'하는 수준을 넘어 '위기' 상황에 놓였기 때문에 인류가 직면한 위험성을 좀 더 정확하게 표현해야 한다는 취지다.영국 일간지 가디언은 지난달 17일 \"앞으로 '기후변화'란 표현 대신 '기후 비상사태(emergency)' '기후 위기' '기후 실패(breakdown)' 등을 사용하겠다\"고 선언했다. 독자들에게 과학적으로 좀 더 엄밀하게 환경 이슈를 전달하기 위해서다. 캐서린 바이너 가디언 편집장은 \"기후변화란 표현은 수동적이고 온화한 느낌을 준다\"면서 \"이는 환경 위기 상황이 인류에게 재앙을 가져올 것이라는 과학자들의 견해와도 차이가 있다\"고 지적했다.환경 전문가들은 가디언의 선언을 환영하고 있다. 미국 환경 전문 미디어 그린비즈(GreenBiz)의 조엘 매코어 총괄 편집자는 \"많은 사람이 '기후는 항상 변하는 것'이라 생각하기 때문에 '기후변화'란 단어를 봐도 '그래서 뭐?' 하며 별일 아닌 것처럼 생각한다\"면서 '기후변화' 대신 '기후 위기'란 표현을 써야 한다는 데 동의를 표했다. 런던 유니버시티 칼리지(UCL)의 마크 매슬린 기후학 교수도 \"인류가 직면한 거대한 과제를 논의하는 데 쓰이는 단어는 반드시 그 긴박함과 중요성을 반영해야 한다\"면서 \"가디언의 이번 방침은 세상과 시대정신이 변했음을 명료하게 보여준다\"고 평했다.한편 '기후 위기'와 더불어 '지구온난화(global warming)'도 다른 표현으로 대체해야 한다는 의견도 나온다. 지구가 천천히 데워지고 있다는 'warming' 대신 뜨겁게 끓어오르고 있다는 'heating'을 쓰자는 것이다. 이에 대해 최재천 이화여대 에코과학부 교수는 \"'heating'을 우리말로 바꾼다면 '물체가 흰색에 가까운 빛을 낼 정도로 온도가 몹시 높은 상태'를 뜻하는 '백열(白熱)'이라는 단어를 써서 '백열화' 정도로 부르면 좋겠다\"고 말했다.[한승희 더나은미래 기자 heehan@chosun.com]- Copyrights ⓒ 조선일보 & chosun.com, 무단 전재 및 재배포 금지 -\t \t\t\t[네이버 메인에서 조선일보 받아보기]\t[조선닷컴 바로가기]\t[조선일보 구독신청하기] \n",
      "\n",
      "경희대학교는 오는 9월 16일(화)에서 19일(목)까지 제38회 세계평화의 날을 기념하는 Peace BAR Festival 2019(이하 ‘PBF 2019’)을 개최한다. 올해 주제는 ‘미래세대의 미래는 있는가: 기후위기와 진실의 정치’이다. 반기문 전 UN 사무총장, 이리나 보코바 경희대 미원석좌교수 등의 세계적 지도자와 피터 와담스 케임브리지대학교 교수, 이안 던롭 로마클럽 회원 등이 경희대를 방문한다.       ━   세계평화의 날과 경희대학교      세계평화의 날과 해는 1981년 경희대 설립자 미원 조영식 박사가 세계대학총장회(IAUP)와 코스타리카 정부를 통해 UN에 제안했으며, 그해 11월 제36차 UN 총회에서 157개 회원국 전원일치로 제정됐다. 당시 UN 총회 결의문(Resolution 36/37)은 “모든 국가와 시민이 평화의 이상(理想)을 기념하고 고양시키고자” 세계평화의 날을 제정했으며, “모든 UN 회원국, 산하기관과 기구, 지역기구, NGO뿐 아니라 모든 사람들이 UN과의 협력하에 특히 교육적 수단을 통해 세계평화의 날의 의미를 되새길 것”을 권유한다고 선언했다. UN은 매년 9월 셋째 화요일을 ‘세계평화의 날(2011년부터 9월 21)’로, 1986년을 ‘세계평화의 해’로 제정했다.        경희대는 1982년부터 세계평화의 날과 해 제정을 기념하는 국제학술회의를 열어왔다. 이 국제학술회의가 2004년부터 PBF로 확대됐다. PBF는 미래문명의 길을 모색하는 지구촌 평화 축제다. PBF의 BAR은 ‘정신적으로 아름답고, 물질적으로 풍요로우며, 인간적으로 보람 있는(spiritually Beautiful, materially Affluent, humanly Rewarding)’ 지구공동사회를 함께 만들자는 뜻을 담고 있다.        세계평화의 날 제정 38주년을 기념하는 이번 PBF 2019에서는 ‘미래세대의 미래는 있는가: 기후위기와 진실의 정치’를 주제로 기후재앙의 실존적 위협을 다룬다. 지금의 재앙 국면을 초래한 세계사, 기후사, 문명사를 살펴보며 미래세대를 위한 담론과 정치적 해결책을 찾는다.       ━   기후재앙 위기 속, 미래세대를 위한 다양한 논의 진행      국제사회는 인류가 당면한 최대의 ‘실존적 위협’은 기후위기라는 데 뜻을 모았다. 기후학자들은 지구 평균기온이 산업혁명 이전보다 1.5도 이상 올라가면 세계적 재앙이 올 것으로 예측한다. 2도 이상 상승하면 ‘여섯 번째 지구 생명의 대멸종’이 현실이 될 것이다.        지구적 위기를 벗어나기 위해서는 지금 바로 급격한 전환이 필요하다. ‘성장의 패러다임’을 ‘지속 패러다임’으로 바꾸지 않으면 인류문명의 존속은 불가능할지도 모른다. 현실정치와 기성세대의 미온적 태도에 절망한 미래세대는 거리로 나섰다. 지난해 8월, 15세 중학생 소녀 그레타 툰베리는 스웨덴 국회의사당 앞에서 ‘기후를 위한 등교 거부’ 문구를 담은 피켓을 들고 1인 시위를 시작했다. 지난해 12월에는 제24차 UN기후변화협약 당사국 총회(COP24)에서 “어른들이 아이들의 미래를 빼앗아가고 있다”고 항변했다. 툰베리의 절규에 전 세계 청소년은 등교를 거부하고 적극적인 기후 대응을 촉구하는 거리 시위에 동참하고 있다.       ━   세계평화의 날 기념식, 기념 포럼, 원탁회의 등 개최        PBF 2019는 이런 기후변화의 심각성에 대해 세계 지성과 시민사회가 함께 연대해 대응하고, 기성세대와 미래세대가 문제의식을 공유하는 자리이다. PBF 2019를 통해 인류가 당면한 가장 큰 난제를 풀어나갈 실천적 지혜를 모색한다. 이를 위해 ‘피스 바 포럼(Peace BAR Forum)’, ‘원탁회의’ 등을 진행한다. 자세한 일정은 다음과 같다.      18일(수) 오후 3시 평화의 전당 로비에서는 ‘피스 바 포럼’이 개최된다. 주제는 ‘Save the Earth, Make the Future’로 피터 와담스 교수와 이안 던롭 로마클럽 회원, 학생 기획단이 패널로 나선다. 포럼을 통해 석학과 미래세대인 학생들이 함께 기후위기를 심층 진단하고, 인류문명에 미치는 파급과 미래세대의 대응방안을 찾는다.        다음날인 19일(목) 오전 10시 30분부터는 세계평화의 날 기념식과 원탁회의가 진행된다. 기념식은 UN 세계평화의 날 제정 배경과 의미에 대한 소개 영상 상영으로 시작한다. 이리나 보코바 석좌교수는 행사장을 찾아 축하 메시지를 전한다. 이후 미래세대의 전언을 담은 영상 ‘우리에게 2050년은 있는가’ 상영과 조인원 학교법인 경희학원 이사장의 기념사, 경희대 음악대학의 축하공연이 이어진다.       ━   국내외 석학, 정치인, 실천가 한자리에 모여 기후위기 급박성 알려      원탁회의는 오후 1시 30분부터 ‘미래세대의 미래는 있는가: 기후위기와 진실의 정치’를 주제로 개최된다. 원탁회의는 그레타 툰베리의 절규에 주목한다. 그레타 툰베리의 1인 시위가 담고 있는 메시지는 기후변화가 지속되면 미래를 잃어버릴 수 있다는 강한 위기의식이다. 원탁회의는 기조 발제와 원탁회의 순으로 진행된다. 기조 발제는 반기문 전 사무총장, 피터 와담스 교수, 이안 던롭 회원이 담당한다.        원탁회의는 이리나 보코바 석좌교수를 좌장으로 기조 발제자와 조인원 이사장이 함께한다. 국내외 석학과 정치인, 실천가가 한자리에 모여 열린 대화를 나눈다. 과학적 근거를 토대로 기후위기의 급박성을 일깨우는 한편, 기후변화 문제의 해결책을 다각도로 모색한다.       ━   특별 전시회 ‘Dear Amazon’, 후마니타스칼리지 세계평화주간 기념식, 기념 백일장 등 개최      특별한 전시회도 준비했다. PBF 2019가 개최되는 9월 16일(월)부터 19일(목)까지 경희대 평화의 전당에서 열리는 ‘Dear Amazon: 인류세 2019’가 그것이다. 브라질과 한국의 예술가들이 ‘생태학적 상상’으로 인류세 문제를 이야기하는 전시회이다. 일민미술관이 기획한 이번 전시는 드로잉, 설치, 퍼포먼스 등을 통해 현시대 상황과 미래를 전망하는 ‘Dear Amazon’과 다양한 활동으로 기후변화를 인식하는 ‘라운지 프로젝트’, 인류세 주제의 영상 작품을 선보이는 ‘스크리닝 프로그램’으로 구성됐다. 이번 전시는 모두 무료로 관람할 수 있다.        경희대 후마니타스칼리지와 학생들도 다양한 행사를 마련했다. 후마니타스칼리지는 9월 17일(화) 서울캠퍼스 청운관 앞마당과 국제캠퍼스 멀티미디어관 B114호에서 ‘후마니타스칼리지 세계평화주간 기념식’을 개최한다. 이후 20일(금)까지는 ‘세계시민교육 및 평화교육 전시회’, ‘세계평화의 날 기념 백일장’, ‘UNAI ASPIRE 경희 평화의 나무’, ‘캔버스 모듈 설치미술’, ‘경희 Peace Road 탐방’, ‘평화운동 사진전’, ‘UNAI ASPIRE 경희평화 포럼’ 등을 개최한다.    온라인 중앙일보  ▶ 네이버 메인에서 중앙일보를 받아보세요▶ 중앙일보 '홈페이지' / '페이스북' 친구추가ⓒ중앙일보(https://joongang.co.kr), 무단 전재 및 재배포 금지 \n",
      "\n",
      "경희대는 이달 16∼19일에 제38회 세계평화의 날을 기념하는 ‘Peace BAR Festival 2019’(PBF 2019)’를 개최한다. 올해 주제는 ‘미래세대의 미래는 있는가: 기후위기와 진실의 정치’이다. 반기문 전 유엔 사무총장, 이리나 보코바 경희대 미원석좌교수, 피터 와담스 케임브리지대 교수, 이안 던롭 로마클럽 회원 등이 경희대를 방문한다.  세계평화의 날과 해는 1981년 경희대 설립자 미원 조영식 박사가 세계대학총장회(IAUP)와 코스타리카 정부를 통해 유엔에 제안하고, 그해 11월 제36차 유엔 총회에서 157개 회원국 전원이 찬성하면서 제정됐다. 유엔은 매년 9월 셋째 화요일을 ‘세계평화의 날(2011년부터 9월 21일)’로, 1986년을 ‘세계평화의 해’로 제정했다.  경희대는 1982년부터 세계평화의 날과 해 제정을 기념하는 국제학술회의를 열어왔다. 이 국제학술회의가 2004년부터 PBF로 확대됐다. PBF는 미래문명의 길을 모색하는 지구촌 평화 축제다. PBF의 BAR는 ‘정신적으로 아름답고, 물질적으로 풍요로우며, 인간적으로 보람 있는(spiritually Beautiful, materially Affluent, humanly Rewarding)’ 지구공동사회를 함께 만들자는 뜻을 담고 있다.  PBF 2019에서는 기후재앙의 실존적 위협을 다룬다. 지금의 재앙 국면을 초래한 세계사, 기후사, 문명사를 살펴보며 미래세대를 위한 담론과 정치적 해결책을 찾는다. 이를 위해 ‘피스 바 포럼(Peace BAR Forum)’, ‘원탁회의’ 등을 진행한다.  PBF 2019가 개최되는 기간에 경희대 평화의 전당에서 열리는 ‘Dear Amazon: 인류세 2019’ 특별 전시회가 열린다. 브라질과 한국의 예술가들이 ‘생태학적 상상’으로 인류세 문제를 이야기하는 전시회로, 일민미술관이 기획했다. 이번 전시는 모두 무료로 관람할 수 있다.▶ 동아일보 단독 뉴스 / 트렌드 뉴스▶ 네이버 홈에서 [동아일보] 채널 구독하기ⓒ 동아일보 & donga.com, 무단 전재 및 재배포 금지 \n",
      "\n",
      "스웨덴의 16세 기후운동가 그레타 툰베리가 뉴욕에서 열리는 유엔기후변화협약 회의에 참석하기 위해, 영국 플리머스에서 출발해 대서양을 건너 15일 만인 지난 달 28일 미국 뉴욕에 도착했다. AP 연합뉴스2019년 3월 15일 금요일, 유럽에서 아시아에 이르는 각국의 청소년들이 파업을 벌였다. 학생들이 등교를 거부하고 시내에 모여 시위를 벌였다. 청소년들은 직접 정보를 모았다. 웹 사이트를 검색하고 과학저널을 읽고 교사들에게 질문을 던졌다. 청소년들은 ‘또 다른 지구는 없다’, ‘내 이름은 그레타’ 같은 손팻말을 들었다. 팻말의 주인공 그레타 툰베리는 올해 열여섯 살인 환경 운동가이자 노벨 평화상 후보다. 그레타는 부모와 교사를 비롯한 기성세대에게 따져 물었다.“어째서 화석연료가 해롭다는 것을 뻔히 알면서도 계속 사용하는 거죠?” “우리 자신과 우리의 자손을 구하기 위해 현재 우리는 무엇을 하고 있나요?” “우리는 현재 인류가 얼마나 위험한 상황에 처해 있으며 지금 무엇을 해야 하는지 알 수 있을 정도로 과학이 발달한 시대에 살고 있잖아요. 더는 이런저런 핑계를 대면서 허비할 시간이 없어요.” “지금 우리에게 필요한 것은 희망이 아니라 행동입니다. 행동에 나서야만 다시 희망을 품을 수 있게 될 것이기 때문입니다.”맞다. 우리는 다 알고 있다. 문제가 무엇인지, 그 문제는 어떻게 발생했는지, 그리고 해결방법은 무엇인지 낱낱이 알고 있다. 눈치 빠른 독자는 알아차렸을 것이다. 요즘 ‘지구온난화’ 또는 ‘기후변화’라는 말보다 ‘기후위기’라는 말이 언론에 더 회자된다는 사실을 말이다. ‘온난화’라는 말은 좋게 들린다. 추운 것보다는 따뜻해야 살기 좋지 않은가. 또 ‘변화’에는 좋은 변화도 있다. 하여 모호한 표현을 피하고 현실을 정확히 표현하기 위해 과학자들은 “기후위기”라는 용어를 쓰고 있다. ‘기후위기’와 함께 ‘기후붕괴’ 또는 ‘기후비상사태’라는 말도 자주 등장한다.기후위기의 원인은 무엇보다도 지구 기온의 상승이다. 2015년 파리 기후정상회담에서는 산업화 이후 지구 기온의 상승을 2도에서 막기로 했다. 2018년 인천에서 열린 ‘기후 변화에 관한 정부간 협의체(IPCC)’는 상승폭을 1.5도로 정했다. 그런데 산업혁명 이후 지난 100여 년 동안에 지구의 평균 기온은 이미 1도나 상승했다. “아이고 겨우 1도 가지고 뭘 그래….”라고 생각할 수도 있다. 그런데 이 속도는 1만 년 전 마지막 빙하기에서 간빙기로 변화한 속도보다 20배 이상 빠른 추세다. 시속 100㎞로 달리던 차가 갑자기 시속 2,000㎞로 달리는 상황을 생각해 보시라. 이게 어디 우리가 감당할 수 있는 일이겠는가.1.5도 상승만으로도 지구는 심각한 위기에 빠지지만 2도가 상승하면 파국에 이른다. 그때는 이미 늦었다. 인간들이 개과천선해서 이산화탄소를 전혀 배출하지 않는다고 해도 2도가 상승한 다음에는 소용이 없다. 기후위기를 걱정하는 분들도 1.5도 상승까지는 아직 꽤 많은 시간이 남았을 것이라고 생각한다. 하지만 전 세계가 오늘과 같은 양의 이산화탄소를 배출한다면 불과 12년 후인 2031년에 닥칠 일이다. 이 글을 읽고 있는 독자들이 여전히 활발히 활동하고 있을 때다.우리는 이걸 일찌감치 알고 있었다. 2000년부터 이산화탄소 배출을 줄였다면 매년 4%씩만 줄이면 됐다. 하지만 2019년부터 이산화탄소 배출을 줄인다면 매년 18%씩 줄여야 한다. 다음 세대에게는 배출할 이산화탄소가 하나도 남지 않는다. 우리는 미래 세대의 이산화탄소를 당겨서 다 써버렸다. 그렇다. 우리는 진실을 다 알고 있다. 다만 행동에 나서지 않을 뿐이다. 화석연료를 더 이상 태우지 말아야 한다는 사실은 누구나 알고 있지만 화석연료를 포기하지 못한다. 왜? 그 위기가 당장 나보다는 다음 세대의 것이라는 잘못된 추정 때문이다. 누가 가장 분노할까? 당연히 다음 세대들이다. 그레타는 동료 청소년들에게 외친다. “청소년 여러분, 어른들이 올바른 일을 할 수 있게 계속해서 부담을 주시기 바랍니다.”그나마 다행이다. 일부 어른들이 부담을 느끼지 시작했으니 말이다. 9월 23일 뉴욕에서 유엔 기후 정상 회담이 열린다. 안토니우 구테흐스 유엔 사무총장은 각국 정상에게 지구 기온 1.5도 상승을 막기 위한 계획을 발표해달라고 요청했다. 각국 정상들이 어떤 계획을 들고 뉴욕으로 모일지 궁금하다. 하지만 큰 기대는 없다. 아직 모든 어른들이 부담을 느끼는 것은 아니기 때문이다.세계 각국의 시민단체는 9월 20일부터 27일까지 일주일 동안 ‘기후 파업’을 선언했다. 우리나라에서는 9월 21일에는 ‘기후위기 비상행동’ 그리고 9월 27일에는 ‘청소년 기후행동’이 계획되어 있다. 서울과 경기 시민은 혜화동 대학로에 모인다. 시민의 정치적 의지가 사회를 바꾸고 기후위기를 벗어나게 할 것이기 때문이다. 시민 한 사람 한 사람이 모두 그레타가 되어 묻고 외칠 것이다. 기후 파업은 기성세대와 새로운 세대 사이의 기후 연대를 맺는 계기가 될 것이다. 빤히 보이는 기후위기에서 벗어나 다음 세대에게 살 터전을 남기는 첫 걸음이 시작된다. 시민이 촉구한다. 정부는 이에 발맞추어 움직여야 한다.이정모 서울시립과학관장\n",
      "\n",
      "\n",
      "\n",
      "▶[한국일보 페이스북 친구맺기] [한국일보 홈 바로가기]▶네이버 채널에서 한국일보를 구독하세요! \n",
      "\n",
      "21일 '기후위기 비상행동' 집회27일 '청소년 기후행동' 시위엔1000명 학교 빠지고 참석 예정  \n",
      "\n",
      "\n",
      "\n",
      "지난 13일 미국 워싱턴 백악관 앞에서 기후위기 대응을 촉구하며 매 주 금요일마다 진행하는 'Fridays for future'(미래를 위한 금요일) 집회에 참가한 스웨덴 10대 환경운동가 그레타 툰베리가 모여든 시민들 앞에서 발언을 하고 있다. [AFP=연합뉴스]           ‘기후위기 대응’을 요구하는 첫 대규모 집회가 21일 전국에서 열린다.     27일에는 청소년들이 등교를 거부하고 집회를 열 예정이다.      100여 개 시민‧환경단체 등이 모인 '기후위기 비상행동' 측은 “21일 오후 3시에 서울 종로구 혜화동 혜화역 앞에서 ‘기후위기 비상행동’ 집회를 열고, 정부의 책임감 있는 온실가스 대책을 요구할 것”이라고 밝혔다.      이번 집회는 23일 미국 뉴욕에서 열리는 유엔 기후 행동 정상회의를 앞두고 전 세계 환경단체와 시민들이 동시다발적으로 진행하는 행사다.     영국에서는 현지시각 20일 오전부터, 미국에서도 20일 오후부터 각지에서 '글로벌 기후 파업(global climate strike)' 이름 아래 단체 행동이 이어진다.      국내에서도 21일 오후 서울을 비롯해 인천, 충남 등 전국 각지에서 집회가 예정돼있다.      \n",
      "\n",
      "\n",
      "\n",
      "21일 예정된 기후위기 비상행동 집회 개요. [기후위기 비상행동]      ━   종각역에서 '다이-인' 퍼포먼스도      \n",
      "\n",
      "\n",
      "\n",
      "지난 4월 27일 독일 베를린에서 기후변화 대응을 촉구하는 시민들이 바닥에 드러눕는 다이-인(die-in) 퍼포먼스를 펼치고 있다. [EPA=연합뉴스]           비상행동 측은 \"현재 환경단체, 노동단체, 종교계 등 사회 각 분야의 단체와 개인 참여 예정자가 3000명이 넘는다\"며 \"21일에는 5000여명이 모일 것으로 예상한다\"고 밝혔다.     이들은 혜화역에서 오후 3시부터 집회를 연 뒤 종각역으로 행진하고, '다이-인(die-in, 죽은 것처럼 드러눕는 시위 행동)' 퍼포먼스도 펼칠 예정이다.      비상행동 측의 요구사항은 세 가지다.     ▶대통령이 '기후위기'를 인정하고 '비상'을 선언할 것 ▶온실가스 배출 제로(0) 계획을 수립해 국민과 공유할 것 ▶기후변화 대응을 위한 독립적인 범사회 기구 설립 등이다.     이 중 대통령의 정상회담 참석은 지난 13일 청와대가 발표한 것처럼 이뤄지게 됐다.     ━   '기후 침묵' 깨고 농민·노동자·청소년도 나서      \n",
      "\n",
      "\n",
      "\n",
      "지난 5월 24일 서울 종로구 세종문화회관 앞에서 열린  '524 청소년 기후행동 기후변화 대응 촉구 집회'에서 퍼포먼스를 하고 있는 어린이들. [뉴스1]           이번 집회에 참여하는 환경운동연합 측은 “현재 ‘기후 침묵’에 가까운 상황인 한국이 좀 더 ‘기후위기’를 일상적으로 말하고, 대응할 정책을 마련하는 신호탄이 됐으면 좋겠다”고 밝혔다.     환경연합은 “한국은 ‘온실가스 제로’ 계획은 전무하고, 온도 상승 2도로 제한하기 위한 목표도 매우 불충분하다\"며 \"장기적으로 배출 제로를 달성할 수 있는 과감한 정책이 필요하다”고 촉구했다.      권우현 환경연합 활동가는 “현재 국내 온실가스 대응책은 2050년까지밖에 없는데, 사람들의 삶은 2050년 이후에도 지속한다\"고 말했다.     그는 \"기후변화는 이제 거대 담론이 아닌 ‘내 문제’\"라며 “청소년, 농민, 노동계 등 다양한 영역에서 개인들이 목소리를 낸 만큼, 이걸 바탕으로 정치권도 움직여야 한다”고 강조했다.      그린피스 서울사무소 유지연 시민참여 캠페이너는 \"서구권에서는 시민들의 행동이 정부의 어젠다로 이어졌는데 우리나라는 아직 미온적\"이라며 \"정부와 기업들에 온실가스 배출과 기후위기를 막을 책임 있는 행동 변화를 더 적극적으로 요구할 것\"이라고 밝혔다.     ━   27일 '결석 시위'엔 청소년 1000명 참여      \n",
      "\n",
      "\n",
      "\n",
      "뉴욕에 도착한 10대 환경운동가 그레타 툰베리가 버락 오바마 전 대통령을 만나 인사를 나누고 있다. [AFP=연합뉴스]           다음 주 금요일(27일)에는 청소년 기후 행동이 주관하는 ‘기후를 위한 결석시위’가 예정돼있다.     전국 약 1000여명의 학생이 등교를 거부하고 서울 세종로 공원에서 기후위기 대응을 촉구하는 집회를 열 예정이다.     이들은 앞서 지난 3월과 5월에도 기후변화 대응 촉구 집회를 연 바 있다.      청소년기후 행동 측 김보림 활동가는 “청소년들의 목소리로 기후변화 대응에 나서고, 우리나라에서도 많은 사람이 기후위기를 말하는 움직임이 커지면서 기대감이 커지고 있다”며 “이번 결석 시위는 청소년들의 행동을 '기특하다' 하고 끝날 게 아니라, 결국은 정부가 나서서 ‘온실가스 제로’를 추진해야 한다는 메시지”라고 밝혔다.      기후위기 해결을 요구하는 ‘파업’ 형태의 액션은 스웨덴 출신 10대 환경운동가 크레타 툰베리가 시작했다.     턴베리는 지난해 8월부터 ‘기후위기 대응’을 요구하며 매주 금요일마다 등교를 거부하고 스웨덴 국회 앞에서 1인시위를 벌여왔다.     23일 UN 기후 행동 정상회의에서 연설하기 위해 지난달 28일 뉴욕에 도착한 툰베리는 백악관 앞에서 1인시위를 벌이고, 오바마 전 대통령과 회동을 갖기도 했다.     툰베리는 기후위기에 대응하는 목소리를 낸 공로를 인정받아 지난 16일 국제앰네스티에서 ‘양심 대사상’을 받았고, 올해 노벨 평화상 후보에도 올라있다. 김정연 기자 Kim.jeongyeon@joongang.co.kr  ▶ 네이버 메인에서 중앙일보를 받아보세요▶ 중앙일보 '홈페이지' / '페이스북' 친구추가ⓒ중앙일보(https://joongang.co.kr), 무단 전재 및 재배포 금지 \n",
      "\n"
     ]
    }
   ],
   "source": [
    "# 반복문으로 원본 문서의 처음 5행을 출력\n",
    "for i in range(5):\n",
    "    print(df['body'].iloc[i], '\\n')"
   ]
  },
  {
   "cell_type": "code",
   "execution_count": 552,
   "id": "ec3318c8-673b-47c6-93da-83b35cbd5f48",
   "metadata": {},
   "outputs": [
    {
     "data": {
      "text/plain": [
       "['글로벌 이슈 국제 사회 인류 직면 위험 표현 지구 온난 끓어오르다 의미 지구 백열 국제 사회 대신 용어 사용 목소리 높아지다 지구 수준 넘다 상황 놓이다 인류 직면 위험 정확 표현 취지 영국 일간지 가디언 지난달 앞 표현 대신 비상사태 실패 사용 선언 독자 과학 이슈 전달 캐서린 바이 가디언 편집장 표현 수동 느낌 주다 상황 인류 재앙 가져오다 과학자 견해 차이 지적 전문가 가디언 선언 환영 미국 전문 미디어 그린 비즈 조엘 매 코어 총괄 편집자 많다 변하다 생각 단어 뭐하다 별일 생각 대신 표현 쓰다 동의 표 런던 유니버시티 칼리지 마크 매스 린 학교 수 인류 직면 거대 과제 논의 쓰이다 단어 중요 반영 가디언 이번 방침 세상 시대 정신 변하다 보이다 평하다 한편 더불다 지구 온난 표현 대체 의견 나오다 지구 데우다 대신 끓어오르다 쓰다 최재천 이화여대 에코 과학부 교수 우리말 바꾸다 물체 흰색 빛 내다 정도 온도 높다 상태 뜻하다 백열 단어 쓰다 백열 정도 부르다 좋다 승 희 미래 조선닷컴 가다 신청']"
      ]
     },
     "execution_count": 552,
     "metadata": {},
     "output_type": "execute_result"
    }
   ],
   "source": [
    "# corpus의 각 원소(리스트)를 하나의 문자열로 결합하여 corpus에 재할당\n",
    "# [참고] 문서-단어 행렬 생성하려면 corpus 원소가 문자열이어야 함\n",
    "corpus = [' '.join(i) for i in corpus]\n",
    "\n",
    "# corpus의 처음 5개 확인\n",
    "corpus[0:1]"
   ]
  },
  {
   "cell_type": "code",
   "execution_count": 553,
   "id": "492baee7-36d8-4e01-8de6-a8bd91f33041",
   "metadata": {},
   "outputs": [],
   "source": [
    "# 문서별 단어의 tf를 계산하는 객체 생성\n",
    "# [참고] TfidfVectorizer()는 단어의 tf-idf를 반환\n",
    "cv = CountVectorizer()"
   ]
  },
  {
   "cell_type": "code",
   "execution_count": 554,
   "id": "3554918b-2d6e-431c-be8f-3ef383dbbfc0",
   "metadata": {},
   "outputs": [
    {
     "data": {
      "text/plain": [
       "array([[0, 0, 0, ..., 0, 0, 0],\n",
       "       [0, 0, 0, ..., 0, 0, 0],\n",
       "       [0, 0, 0, ..., 0, 0, 0],\n",
       "       ...,\n",
       "       [0, 0, 0, ..., 0, 0, 0],\n",
       "       [0, 0, 0, ..., 0, 0, 0],\n",
       "       [0, 0, 0, ..., 0, 0, 0]], dtype=int64)"
      ]
     },
     "execution_count": 554,
     "metadata": {},
     "output_type": "execute_result"
    }
   ],
   "source": [
    "# 단어의 tf를 성분으로 갖는 문서-단어 행렬 생성\n",
    "dtm = cv.fit_transform(raw_documents = corpus).toarray()\n",
    "\n",
    "# dtm 확인\n",
    "# [참고] dtm은 2차원 행렬임\n",
    "dtm"
   ]
  },
  {
   "cell_type": "code",
   "execution_count": 555,
   "id": "ba216d46-1dc3-47de-b3d1-5e121fc7b3f0",
   "metadata": {},
   "outputs": [
    {
     "data": {
      "text/plain": [
       "array(['0으', '0이', '10를컬', ..., '힘들다', '힘쓰다', '힙합'], dtype=object)"
      ]
     },
     "execution_count": 555,
     "metadata": {},
     "output_type": "execute_result"
    }
   ],
   "source": [
    "# cv 객체에 저장된 단어 목록 확인\n",
    "# [참고] 알파벳이 모두 소문자로 바뀌었음\n",
    "cv.get_feature_names_out()"
   ]
  },
  {
   "cell_type": "code",
   "execution_count": 556,
   "id": "ccb4c2ee-eb50-434e-b8a0-f6e3bc1791ce",
   "metadata": {},
   "outputs": [],
   "source": [
    "# dtm을 데이터프레임으로 변환\n",
    "dtm = pd.DataFrame(data = dtm, columns = cv.get_feature_names_out())"
   ]
  },
  {
   "cell_type": "code",
   "execution_count": 557,
   "id": "b7e8c8bc-e036-4d31-9a39-095225796db4",
   "metadata": {},
   "outputs": [],
   "source": [
    "# dtm의 열이름에서 알파벳을 대문자로 변경\n",
    "dtm.columns = dtm.columns.str.upper()"
   ]
  },
  {
   "cell_type": "code",
   "execution_count": 558,
   "id": "77e22f59-06d1-47e4-a438-3ca6d878f5b8",
   "metadata": {},
   "outputs": [
    {
     "data": {
      "text/html": [
       "<div>\n",
       "<style scoped>\n",
       "    .dataframe tbody tr th:only-of-type {\n",
       "        vertical-align: middle;\n",
       "    }\n",
       "\n",
       "    .dataframe tbody tr th {\n",
       "        vertical-align: top;\n",
       "    }\n",
       "\n",
       "    .dataframe thead th {\n",
       "        text-align: right;\n",
       "    }\n",
       "</style>\n",
       "<table border=\"1\" class=\"dataframe\">\n",
       "  <thead>\n",
       "    <tr style=\"text-align: right;\">\n",
       "      <th></th>\n",
       "      <th>0으</th>\n",
       "      <th>0이</th>\n",
       "      <th>10를컬</th>\n",
       "      <th>1에이커피트</th>\n",
       "      <th>1의셀럽</th>\n",
       "      <th>1이</th>\n",
       "      <th>2세</th>\n",
       "      <th>3쥬빌리</th>\n",
       "      <th>4계</th>\n",
       "      <th>5일장</th>\n",
       "      <th>...</th>\n",
       "      <th>히스로</th>\n",
       "      <th>히어리</th>\n",
       "      <th>히트</th>\n",
       "      <th>히틀러</th>\n",
       "      <th>히프</th>\n",
       "      <th>힐데브란트</th>\n",
       "      <th>힐링</th>\n",
       "      <th>힘들다</th>\n",
       "      <th>힘쓰다</th>\n",
       "      <th>힙합</th>\n",
       "    </tr>\n",
       "  </thead>\n",
       "  <tbody>\n",
       "    <tr>\n",
       "      <th>0</th>\n",
       "      <td>0</td>\n",
       "      <td>0</td>\n",
       "      <td>0</td>\n",
       "      <td>0</td>\n",
       "      <td>0</td>\n",
       "      <td>0</td>\n",
       "      <td>0</td>\n",
       "      <td>0</td>\n",
       "      <td>0</td>\n",
       "      <td>0</td>\n",
       "      <td>...</td>\n",
       "      <td>0</td>\n",
       "      <td>0</td>\n",
       "      <td>0</td>\n",
       "      <td>0</td>\n",
       "      <td>0</td>\n",
       "      <td>0</td>\n",
       "      <td>0</td>\n",
       "      <td>0</td>\n",
       "      <td>0</td>\n",
       "      <td>0</td>\n",
       "    </tr>\n",
       "    <tr>\n",
       "      <th>1</th>\n",
       "      <td>0</td>\n",
       "      <td>0</td>\n",
       "      <td>0</td>\n",
       "      <td>0</td>\n",
       "      <td>0</td>\n",
       "      <td>0</td>\n",
       "      <td>0</td>\n",
       "      <td>0</td>\n",
       "      <td>0</td>\n",
       "      <td>0</td>\n",
       "      <td>...</td>\n",
       "      <td>0</td>\n",
       "      <td>0</td>\n",
       "      <td>0</td>\n",
       "      <td>0</td>\n",
       "      <td>0</td>\n",
       "      <td>0</td>\n",
       "      <td>0</td>\n",
       "      <td>0</td>\n",
       "      <td>0</td>\n",
       "      <td>0</td>\n",
       "    </tr>\n",
       "    <tr>\n",
       "      <th>2</th>\n",
       "      <td>0</td>\n",
       "      <td>0</td>\n",
       "      <td>0</td>\n",
       "      <td>0</td>\n",
       "      <td>0</td>\n",
       "      <td>0</td>\n",
       "      <td>0</td>\n",
       "      <td>0</td>\n",
       "      <td>0</td>\n",
       "      <td>0</td>\n",
       "      <td>...</td>\n",
       "      <td>0</td>\n",
       "      <td>0</td>\n",
       "      <td>0</td>\n",
       "      <td>0</td>\n",
       "      <td>0</td>\n",
       "      <td>0</td>\n",
       "      <td>0</td>\n",
       "      <td>0</td>\n",
       "      <td>0</td>\n",
       "      <td>0</td>\n",
       "    </tr>\n",
       "    <tr>\n",
       "      <th>3</th>\n",
       "      <td>0</td>\n",
       "      <td>0</td>\n",
       "      <td>0</td>\n",
       "      <td>0</td>\n",
       "      <td>0</td>\n",
       "      <td>0</td>\n",
       "      <td>0</td>\n",
       "      <td>0</td>\n",
       "      <td>0</td>\n",
       "      <td>0</td>\n",
       "      <td>...</td>\n",
       "      <td>0</td>\n",
       "      <td>0</td>\n",
       "      <td>0</td>\n",
       "      <td>0</td>\n",
       "      <td>0</td>\n",
       "      <td>0</td>\n",
       "      <td>0</td>\n",
       "      <td>0</td>\n",
       "      <td>0</td>\n",
       "      <td>0</td>\n",
       "    </tr>\n",
       "    <tr>\n",
       "      <th>4</th>\n",
       "      <td>0</td>\n",
       "      <td>0</td>\n",
       "      <td>0</td>\n",
       "      <td>0</td>\n",
       "      <td>0</td>\n",
       "      <td>0</td>\n",
       "      <td>0</td>\n",
       "      <td>0</td>\n",
       "      <td>0</td>\n",
       "      <td>0</td>\n",
       "      <td>...</td>\n",
       "      <td>0</td>\n",
       "      <td>0</td>\n",
       "      <td>0</td>\n",
       "      <td>0</td>\n",
       "      <td>0</td>\n",
       "      <td>0</td>\n",
       "      <td>0</td>\n",
       "      <td>0</td>\n",
       "      <td>0</td>\n",
       "      <td>0</td>\n",
       "    </tr>\n",
       "  </tbody>\n",
       "</table>\n",
       "<p>5 rows × 12442 columns</p>\n",
       "</div>"
      ],
      "text/plain": [
       "   0으  0이  10를컬  1에이커피트  1의셀럽  1이  2세  3쥬빌리  4계  5일장  ...  히스로  히어리  히트  히틀러  \\\n",
       "0   0   0     0       0     0   0   0     0   0    0  ...    0    0   0    0   \n",
       "1   0   0     0       0     0   0   0     0   0    0  ...    0    0   0    0   \n",
       "2   0   0     0       0     0   0   0     0   0    0  ...    0    0   0    0   \n",
       "3   0   0     0       0     0   0   0     0   0    0  ...    0    0   0    0   \n",
       "4   0   0     0       0     0   0   0     0   0    0  ...    0    0   0    0   \n",
       "\n",
       "   히프  힐데브란트  힐링  힘들다  힘쓰다  힙합  \n",
       "0   0      0   0    0    0   0  \n",
       "1   0      0   0    0    0   0  \n",
       "2   0      0   0    0    0   0  \n",
       "3   0      0   0    0    0   0  \n",
       "4   0      0   0    0    0   0  \n",
       "\n",
       "[5 rows x 12442 columns]"
      ]
     },
     "execution_count": 558,
     "metadata": {},
     "output_type": "execute_result"
    }
   ],
   "source": [
    "# dtm의 처음 5행 확인\n",
    "dtm.head()"
   ]
  },
  {
   "cell_type": "code",
   "execution_count": 559,
   "id": "f4bd989c-8008-451d-ae05-144ceec03d8b",
   "metadata": {},
   "outputs": [
    {
     "data": {
      "text/plain": [
       "(418, 12442)"
      ]
     },
     "execution_count": 559,
     "metadata": {},
     "output_type": "execute_result"
    }
   ],
   "source": [
    "# dtm의 행 개수와 열 개수 확인\n",
    "dtm.shape"
   ]
  },
  {
   "cell_type": "code",
   "execution_count": 560,
   "id": "1119e2e2-110e-4666-9ff2-81db30cd31b1",
   "metadata": {},
   "outputs": [],
   "source": [
    "# dtm의 단어별 tf 합계를 내림차순 정렬하고 tfs에 할당\n",
    "tfs = dtm.sum().sort_values(ascending = False)"
   ]
  },
  {
   "cell_type": "code",
   "execution_count": 561,
   "id": "e8206aad-8258-4676-b957-a2a8f90eb992",
   "metadata": {},
   "outputs": [
    {
     "data": {
      "text/plain": [
       "탄소     993\n",
       "대응     711\n",
       "지구     696\n",
       "세계     683\n",
       "에너지    530\n",
       "      ... \n",
       "재난     173\n",
       "결과     172\n",
       "관심     172\n",
       "인류     172\n",
       "성장     171\n",
       "Length: 100, dtype: int64"
      ]
     },
     "metadata": {},
     "output_type": "display_data"
    },
    {
     "data": {
      "text/plain": [
       "오현주                1\n",
       "데시                 1\n",
       "오한                 1\n",
       "외지인                1\n",
       "대표백규석큐리에이터대표김진주    1\n",
       "                  ..\n",
       "용사                 1\n",
       "용매                 1\n",
       "용두동                1\n",
       "용돈                 1\n",
       "힙합                 1\n",
       "Length: 100, dtype: int64"
      ]
     },
     "metadata": {},
     "output_type": "display_data"
    }
   ],
   "source": [
    "# tfs의 상위 10개 및 하위 10개 확인\n",
    "display(tfs.head(n = 100))\n",
    "display(tfs.tail(n = 100))"
   ]
  },
  {
   "cell_type": "code",
   "execution_count": 562,
   "id": "4d35962e-0331-4c1b-9a6b-500086711171",
   "metadata": {},
   "outputs": [],
   "source": [
    "# tfs가 2 이하인 인덱스(단어)를 dtm에서 제거\n",
    "# [참고] 단어 빈도수를 높일수록 dtm의 열(차원) 개수가 감소함\n",
    "threshold = 20\n",
    "dtm = dtm.drop(columns = tfs.loc[tfs.le(threshold)].index)"
   ]
  },
  {
   "cell_type": "code",
   "execution_count": 563,
   "id": "ef7de73e-3969-4cc0-8fc2-849c13dc1909",
   "metadata": {},
   "outputs": [
    {
     "data": {
      "text/plain": [
       "(418, 1134)"
      ]
     },
     "execution_count": 563,
     "metadata": {},
     "output_type": "execute_result"
    }
   ],
   "source": [
    "# dtm의 행 개수와 열 개수 확인\n",
    "# [참고] 단어 빈도수가 매우 작은 일부 단어를 삭제함으로써 차원(열) 축소 가능\n",
    "# [참고] dtm의 차원을 축소하면 행렬곱 연산을 빠르게 실행할 수 있음\n",
    "dtm.shape"
   ]
  },
  {
   "cell_type": "code",
   "execution_count": 564,
   "id": "c6cc67cb-70c4-449c-97b2-4ae1f39e09c0",
   "metadata": {},
   "outputs": [],
   "source": [
    "# corpus, tfs 및 dtm을 하나의 pkl 파일로 저장\n",
    "pd.to_pickle(obj = [corpus, tfs, dtm], filepath_or_buffer = 'media2_Text_Prep.pkl')"
   ]
  },
  {
   "cell_type": "code",
   "execution_count": null,
   "id": "d751d67e-ac48-438f-a49e-f78170d9e531",
   "metadata": {},
   "outputs": [],
   "source": []
  },
  {
   "cell_type": "code",
   "execution_count": null,
   "id": "0d5d7e1f-3de0-4a4e-a666-54f7f05287de",
   "metadata": {},
   "outputs": [],
   "source": []
  }
 ],
 "metadata": {
  "kernelspec": {
   "display_name": "Python 3 (ipykernel)",
   "language": "python",
   "name": "python3"
  },
  "language_info": {
   "codemirror_mode": {
    "name": "ipython",
    "version": 3
   },
   "file_extension": ".py",
   "mimetype": "text/x-python",
   "name": "python",
   "nbconvert_exporter": "python",
   "pygments_lexer": "ipython3",
   "version": "3.12.4"
  }
 },
 "nbformat": 4,
 "nbformat_minor": 5
}
