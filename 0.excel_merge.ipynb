{
 "cells": [
  {
   "cell_type": "code",
   "execution_count": 1,
   "id": "2f888e0e-edac-4777-928c-02a415145862",
   "metadata": {},
   "outputs": [],
   "source": [
    "import os\n",
    "import time\n",
    "import pandas as pd\n",
    "from glob import glob\n",
    "from tqdm.notebook import tqdm"
   ]
  },
  {
   "cell_type": "code",
   "execution_count": 2,
   "id": "e73d0a98-f404-4fd5-8677-734a7690df2e",
   "metadata": {},
   "outputs": [
    {
     "data": {
      "text/plain": [
       "'C:\\\\Users\\\\h_j06\\\\Desktop\\\\DMF\\\\2nd_project'"
      ]
     },
     "execution_count": 2,
     "metadata": {},
     "output_type": "execute_result"
    }
   ],
   "source": [
    "# 현재 위치 확인\n",
    "os.getcwd()"
   ]
  },
  {
   "cell_type": "code",
   "execution_count": 6,
   "id": "79fa7c50-860d-4161-a4e9-9a0d10f9816e",
   "metadata": {},
   "outputs": [
    {
     "data": {
      "text/plain": [
       "['.git',\n",
       " '.gitignore',\n",
       " '.ipynb_checkpoints',\n",
       " '0.excel_merge.ipynb',\n",
       " '1.text_mining.ipynb',\n",
       " '2.visualization.ipynb',\n",
       " '2015to2021_Text_Prep.pkl',\n",
       " 'README.md',\n",
       " 'code',\n",
       " 'news.py',\n",
       " 'requirements.txt',\n",
       " 'venv',\n",
       " '기후위기',\n",
       " '상위50그래프.png',\n",
       " '워드클라우드.png']"
      ]
     },
     "execution_count": 6,
     "metadata": {},
     "output_type": "execute_result"
    }
   ],
   "source": [
    "# 현재 파일 확인\n",
    "sorted(os.listdir())"
   ]
  },
  {
   "cell_type": "code",
   "execution_count": 2,
   "id": "6a7655ff-1e93-440d-9991-ad762be441f9",
   "metadata": {},
   "outputs": [
    {
     "data": {
      "application/vnd.jupyter.widget-view+json": {
       "model_id": "711c471d48a64c33b97dcfe2db6efd24",
       "version_major": 2,
       "version_minor": 0
      },
      "text/plain": [
       "  0%|          | 0/4 [00:00<?, ?it/s]"
      ]
     },
     "metadata": {},
     "output_type": "display_data"
    }
   ],
   "source": [
    "total = pd.DataFrame() # 반환용, 데이터 저장용도\n",
    "\n",
    "# 반복문 돌리기 위해 전체 파일을 리스트에 담아 가져옴\n",
    "# 현재 작업 경로의 '기후위기' 폴더에서 '.xlsx'가 있는 모든 파일을 가져옴\n",
    "excel_files = glob('./기후위기/*.xlsx') \n",
    "\n",
    "for file in tqdm(excel_files):\n",
    "    temp = pd.read_excel(file,header=0) # i 번째 파일을 불러와서 임시로 보관\n",
    "    total = pd.concat([total,temp]) # temp를 반환용 DataFrame에 합쳐줌\n",
    "\n",
    "\n",
    "# index 초기화\n",
    "# drop = True 옵션을 준다면 원래 인덱스를 버린다.\n",
    "total = total.reset_index(drop=True)\n",
    "\n",
    "# title 열을 기준으로 중복된 행 제거\n",
    "total = total.drop_duplicates(subset=['title'])\n",
    "\n",
    "# 엑셀로 내보내는 코드\n",
    "total.to_excel('기후위기_20150701_to_20240630.xlsx', index=False)"
   ]
  },
  {
   "cell_type": "code",
   "execution_count": 40,
   "id": "5b815d4b-99a0-4fd2-b265-609864c409ce",
   "metadata": {},
   "outputs": [
    {
     "data": {
      "text/html": [
       "<div>\n",
       "<style scoped>\n",
       "    .dataframe tbody tr th:only-of-type {\n",
       "        vertical-align: middle;\n",
       "    }\n",
       "\n",
       "    .dataframe tbody tr th {\n",
       "        vertical-align: top;\n",
       "    }\n",
       "\n",
       "    .dataframe thead th {\n",
       "        text-align: right;\n",
       "    }\n",
       "</style>\n",
       "<table border=\"1\" class=\"dataframe\">\n",
       "  <thead>\n",
       "    <tr style=\"text-align: right;\">\n",
       "      <th></th>\n",
       "      <th>media</th>\n",
       "      <th>date</th>\n",
       "      <th>title</th>\n",
       "      <th>body</th>\n",
       "      <th>link</th>\n",
       "      <th>Unnamed: 0</th>\n",
       "    </tr>\n",
       "  </thead>\n",
       "  <tbody>\n",
       "    <tr>\n",
       "      <th>0</th>\n",
       "      <td>경향신문</td>\n",
       "      <td>2015.11.13. 오후 8:59</td>\n",
       "      <td>[책과 삶]기후 위기 외면하는 인류에 보낸 ‘리얼 SF’</td>\n",
       "      <td>ㆍ다가올 역사, 서양 문명의 몰락ㆍ나오미 오레스케스 외 지음·홍한별 옮김갈라파고스 ...</td>\n",
       "      <td>https://n.news.naver.com/mnews/article/032/000...</td>\n",
       "      <td>NaN</td>\n",
       "    </tr>\n",
       "    <tr>\n",
       "      <th>1</th>\n",
       "      <td>연합뉴스</td>\n",
       "      <td>2015.11.29. 오전 11:51</td>\n",
       "      <td>'기후위기 극복을 염원' 기자회견</td>\n",
       "      <td>(서울=연합뉴스) 이재희 기자 = 기후행동2015 관계자들이 29일 오전 서울 중구...</td>\n",
       "      <td>https://n.news.naver.com/mnews/article/001/000...</td>\n",
       "      <td>NaN</td>\n",
       "    </tr>\n",
       "    <tr>\n",
       "      <th>2</th>\n",
       "      <td>연합뉴스</td>\n",
       "      <td>2015.11.29. 오전 11:53</td>\n",
       "      <td>'파리총회의 성공과 기후위기 극복을 염원'</td>\n",
       "      <td>(서울=연합뉴스) 이재희 기자 = 기후행동2015 관계자들이 29일 오전 서울 중구...</td>\n",
       "      <td>https://n.news.naver.com/mnews/article/001/000...</td>\n",
       "      <td>NaN</td>\n",
       "    </tr>\n",
       "    <tr>\n",
       "      <th>3</th>\n",
       "      <td>뉴시스</td>\n",
       "      <td>2015.11.29. 오후 12:07</td>\n",
       "      <td>기후위기 극복을 위한 1000인 선언</td>\n",
       "      <td>【서울=뉴시스】조성봉 기자 = 29일 오전 서울 종로구 베스트웨스턴 뉴서울호텔 세미...</td>\n",
       "      <td>https://n.news.naver.com/mnews/article/003/000...</td>\n",
       "      <td>NaN</td>\n",
       "    </tr>\n",
       "    <tr>\n",
       "      <th>4</th>\n",
       "      <td>뉴시스</td>\n",
       "      <td>2015.11.29. 오후 12:07</td>\n",
       "      <td>이부영,' 기후위기 극복을 위해'</td>\n",
       "      <td>【서울=뉴시스】조성봉 기자 = 29일 오전 서울 종로구 베스트웨스턴 뉴서울호텔 세미...</td>\n",
       "      <td>https://n.news.naver.com/mnews/article/003/000...</td>\n",
       "      <td>NaN</td>\n",
       "    </tr>\n",
       "  </tbody>\n",
       "</table>\n",
       "</div>"
      ],
      "text/plain": [
       "  media                  date                            title  \\\n",
       "0  경향신문   2015.11.13. 오후 8:59  [책과 삶]기후 위기 외면하는 인류에 보낸 ‘리얼 SF’   \n",
       "1  연합뉴스  2015.11.29. 오전 11:51               '기후위기 극복을 염원' 기자회견   \n",
       "2  연합뉴스  2015.11.29. 오전 11:53          '파리총회의 성공과 기후위기 극복을 염원'   \n",
       "3   뉴시스  2015.11.29. 오후 12:07             기후위기 극복을 위한 1000인 선언   \n",
       "4   뉴시스  2015.11.29. 오후 12:07               이부영,' 기후위기 극복을 위해'   \n",
       "\n",
       "                                                body  \\\n",
       "0  ㆍ다가올 역사, 서양 문명의 몰락ㆍ나오미 오레스케스 외 지음·홍한별 옮김갈라파고스 ...   \n",
       "1  (서울=연합뉴스) 이재희 기자 = 기후행동2015 관계자들이 29일 오전 서울 중구...   \n",
       "2  (서울=연합뉴스) 이재희 기자 = 기후행동2015 관계자들이 29일 오전 서울 중구...   \n",
       "3  【서울=뉴시스】조성봉 기자 = 29일 오전 서울 종로구 베스트웨스턴 뉴서울호텔 세미...   \n",
       "4  【서울=뉴시스】조성봉 기자 = 29일 오전 서울 종로구 베스트웨스턴 뉴서울호텔 세미...   \n",
       "\n",
       "                                                link  Unnamed: 0  \n",
       "0  https://n.news.naver.com/mnews/article/032/000...         NaN  \n",
       "1  https://n.news.naver.com/mnews/article/001/000...         NaN  \n",
       "2  https://n.news.naver.com/mnews/article/001/000...         NaN  \n",
       "3  https://n.news.naver.com/mnews/article/003/000...         NaN  \n",
       "4  https://n.news.naver.com/mnews/article/003/000...         NaN  "
      ]
     },
     "execution_count": 40,
     "metadata": {},
     "output_type": "execute_result"
    }
   ],
   "source": [
    "# df = pd.read_excel('기후위기_20150701_to_20240630.xlsx', index_col = 0)\n",
    "df = pd.read_excel('기후위기_20150701_to_20240630.xlsx')\n",
    "df.head()"
   ]
  },
  {
   "cell_type": "code",
   "execution_count": 41,
   "id": "8bb03400-154e-4ed9-be3c-dac3e7d06474",
   "metadata": {},
   "outputs": [
    {
     "data": {
      "text/html": [
       "<div>\n",
       "<style scoped>\n",
       "    .dataframe tbody tr th:only-of-type {\n",
       "        vertical-align: middle;\n",
       "    }\n",
       "\n",
       "    .dataframe tbody tr th {\n",
       "        vertical-align: top;\n",
       "    }\n",
       "\n",
       "    .dataframe thead th {\n",
       "        text-align: right;\n",
       "    }\n",
       "</style>\n",
       "<table border=\"1\" class=\"dataframe\">\n",
       "  <thead>\n",
       "    <tr style=\"text-align: right;\">\n",
       "      <th></th>\n",
       "      <th>media</th>\n",
       "      <th>date</th>\n",
       "      <th>title</th>\n",
       "      <th>body</th>\n",
       "      <th>link</th>\n",
       "    </tr>\n",
       "  </thead>\n",
       "  <tbody>\n",
       "    <tr>\n",
       "      <th>0</th>\n",
       "      <td>경향신문</td>\n",
       "      <td>2015.11.13. 오후 8:59</td>\n",
       "      <td>[책과 삶]기후 위기 외면하는 인류에 보낸 ‘리얼 SF’</td>\n",
       "      <td>ㆍ다가올 역사, 서양 문명의 몰락ㆍ나오미 오레스케스 외 지음·홍한별 옮김갈라파고스 ...</td>\n",
       "      <td>https://n.news.naver.com/mnews/article/032/000...</td>\n",
       "    </tr>\n",
       "    <tr>\n",
       "      <th>1</th>\n",
       "      <td>연합뉴스</td>\n",
       "      <td>2015.11.29. 오전 11:51</td>\n",
       "      <td>'기후위기 극복을 염원' 기자회견</td>\n",
       "      <td>(서울=연합뉴스) 이재희 기자 = 기후행동2015 관계자들이 29일 오전 서울 중구...</td>\n",
       "      <td>https://n.news.naver.com/mnews/article/001/000...</td>\n",
       "    </tr>\n",
       "    <tr>\n",
       "      <th>2</th>\n",
       "      <td>연합뉴스</td>\n",
       "      <td>2015.11.29. 오전 11:53</td>\n",
       "      <td>'파리총회의 성공과 기후위기 극복을 염원'</td>\n",
       "      <td>(서울=연합뉴스) 이재희 기자 = 기후행동2015 관계자들이 29일 오전 서울 중구...</td>\n",
       "      <td>https://n.news.naver.com/mnews/article/001/000...</td>\n",
       "    </tr>\n",
       "    <tr>\n",
       "      <th>3</th>\n",
       "      <td>뉴시스</td>\n",
       "      <td>2015.11.29. 오후 12:07</td>\n",
       "      <td>기후위기 극복을 위한 1000인 선언</td>\n",
       "      <td>【서울=뉴시스】조성봉 기자 = 29일 오전 서울 종로구 베스트웨스턴 뉴서울호텔 세미...</td>\n",
       "      <td>https://n.news.naver.com/mnews/article/003/000...</td>\n",
       "    </tr>\n",
       "    <tr>\n",
       "      <th>4</th>\n",
       "      <td>뉴시스</td>\n",
       "      <td>2015.11.29. 오후 12:07</td>\n",
       "      <td>이부영,' 기후위기 극복을 위해'</td>\n",
       "      <td>【서울=뉴시스】조성봉 기자 = 29일 오전 서울 종로구 베스트웨스턴 뉴서울호텔 세미...</td>\n",
       "      <td>https://n.news.naver.com/mnews/article/003/000...</td>\n",
       "    </tr>\n",
       "  </tbody>\n",
       "</table>\n",
       "</div>"
      ],
      "text/plain": [
       "  media                  date                            title  \\\n",
       "0  경향신문   2015.11.13. 오후 8:59  [책과 삶]기후 위기 외면하는 인류에 보낸 ‘리얼 SF’   \n",
       "1  연합뉴스  2015.11.29. 오전 11:51               '기후위기 극복을 염원' 기자회견   \n",
       "2  연합뉴스  2015.11.29. 오전 11:53          '파리총회의 성공과 기후위기 극복을 염원'   \n",
       "3   뉴시스  2015.11.29. 오후 12:07             기후위기 극복을 위한 1000인 선언   \n",
       "4   뉴시스  2015.11.29. 오후 12:07               이부영,' 기후위기 극복을 위해'   \n",
       "\n",
       "                                                body  \\\n",
       "0  ㆍ다가올 역사, 서양 문명의 몰락ㆍ나오미 오레스케스 외 지음·홍한별 옮김갈라파고스 ...   \n",
       "1  (서울=연합뉴스) 이재희 기자 = 기후행동2015 관계자들이 29일 오전 서울 중구...   \n",
       "2  (서울=연합뉴스) 이재희 기자 = 기후행동2015 관계자들이 29일 오전 서울 중구...   \n",
       "3  【서울=뉴시스】조성봉 기자 = 29일 오전 서울 종로구 베스트웨스턴 뉴서울호텔 세미...   \n",
       "4  【서울=뉴시스】조성봉 기자 = 29일 오전 서울 종로구 베스트웨스턴 뉴서울호텔 세미...   \n",
       "\n",
       "                                                link  \n",
       "0  https://n.news.naver.com/mnews/article/032/000...  \n",
       "1  https://n.news.naver.com/mnews/article/001/000...  \n",
       "2  https://n.news.naver.com/mnews/article/001/000...  \n",
       "3  https://n.news.naver.com/mnews/article/003/000...  \n",
       "4  https://n.news.naver.com/mnews/article/003/000...  "
      ]
     },
     "execution_count": 41,
     "metadata": {},
     "output_type": "execute_result"
    }
   ],
   "source": [
    "# Unnamed: 0 컬럼을 drop하여 제거\n",
    "df.drop(['Unnamed: 0'], axis = 1, inplace = True)\n",
    "df.head()"
   ]
  },
  {
   "cell_type": "markdown",
   "id": "0b87d007-74cf-4677-957c-cdbbdf2676fc",
   "metadata": {},
   "source": [
    "## 언론사명 불용어처리"
   ]
  },
  {
   "cell_type": "code",
   "execution_count": 27,
   "id": "abfdd7e3-76d7-4c36-97b8-a861b8141a8d",
   "metadata": {},
   "outputs": [
    {
     "name": "stdout",
     "output_type": "stream",
     "text": [
      "<class 'pandas.core.frame.DataFrame'>\n",
      "RangeIndex: 10831 entries, 0 to 10830\n",
      "Data columns (total 5 columns):\n",
      " #   Column  Non-Null Count  Dtype \n",
      "---  ------  --------------  ----- \n",
      " 0   media   10831 non-null  object\n",
      " 1   date    10831 non-null  object\n",
      " 2   title   10831 non-null  object\n",
      " 3   body    10819 non-null  object\n",
      " 4   link    10831 non-null  object\n",
      "dtypes: object(5)\n",
      "memory usage: 423.2+ KB\n"
     ]
    }
   ],
   "source": [
    "df.info()"
   ]
  },
  {
   "cell_type": "code",
   "execution_count": 28,
   "id": "af980bee-f304-4122-a562-ef1b5bb749f4",
   "metadata": {},
   "outputs": [
    {
     "data": {
      "text/plain": [
       "RangeIndex(start=0, stop=10831, step=1)"
      ]
     },
     "execution_count": 28,
     "metadata": {},
     "output_type": "execute_result"
    }
   ],
   "source": [
    "df.index.unique()"
   ]
  },
  {
   "cell_type": "code",
   "execution_count": 29,
   "id": "3f8c53ab-0c13-4101-8662-125201823736",
   "metadata": {},
   "outputs": [
    {
     "name": "stdout",
     "output_type": "stream",
     "text": [
      "[('경향신문', 'NNP'), ('연합뉴스', 'NNP'), ('뉴시스', 'NNP'), ('세계일보', 'NNP'), ('전자신문', 'NNP'), ('문화일보', 'NNP'), ('매경이코노미', 'NNP'), ('KBS', 'NNP'), ('뉴스1', 'NNP'), ('프레시안', 'NNP'), ('조선일보', 'NNP'), ('오마이뉴스', 'NNP'), ('MBC', 'NNP'), ('국민일보', 'NNP'), ('미디어오늘', 'NNP'), ('한겨레', 'NNP'), ('아시아경제', 'NNP'), ('중앙일보', 'NNP'), ('동아일보', 'NNP'), ('한국일보', 'NNP'), ('노컷뉴스', 'NNP'), ('매일신문', 'NNP'), ('헤럴드경제', 'NNP'), ('부산일보', 'NNP'), ('YTN', 'NNP'), ('파이낸셜뉴스', 'NNP'), ('데일리안', 'NNP'), ('머니S', 'NNP'), ('여성신문', 'NNP'), ('서울신문', 'NNP'), ('중앙SUNDAY', 'NNP'), ('머니투데이', 'NNP'), ('서울경제', 'NNP'), ('디지털타임스', 'NNP'), ('매일경제', 'NNP'), ('이데일리', 'NNP'), ('일다', 'NNP'), ('시사저널', 'NNP'), ('JTBC', 'NNP'), ('주간경향', 'NNP'), ('더팩트', 'NNP'), ('SBS', 'NNP'), ('한겨레21', 'NNP'), ('스포츠서울', 'NNP'), ('한국경제TV', 'NNP'), ('한국경제', 'NNP'), ('지디넷코리아', 'NNP'), ('기자협회보', 'NNP'), ('TV조선', 'NNP'), ('연합뉴스TV', 'NNP'), ('조선비즈', 'NNP'), ('스포츠조선', 'NNP'), ('시사IN', 'NNP'), ('아이뉴스24', 'NNP'), ('강원일보', 'NNP'), ('엑스포츠뉴스', 'NNP'), ('동아사이언스', 'NNP'), ('스타뉴스', 'NNP'), ('한경비즈니스', 'NNP'), ('MBN', 'NNP'), ('마이데일리', 'NNP'), ('SBS Biz', 'NNP'), ('코메디닷컴', 'NNP'), ('스포츠경향', 'NNP'), ('디지털데일리', 'NNP'), ('이코노미스트', 'NNP'), ('스포츠동아', 'NNP'), ('조세일보', 'NNP'), ('채널A', 'NNP'), ('강원도민일보', 'NNP'), ('레이디경향', 'NNP'), ('국제신문', 'NNP'), ('CJB청주방송', 'NNP'), ('대전일보', 'NNP'), ('전주MBC', 'NNP'), ('JIBS', 'NNP'), ('대구MBC', 'NNP'), ('kbc광주방송', 'NNP'), ('블로터', 'NNP'), ('농민신문', 'NNP'), ('게임메카', 'NNP'), ('비즈워치', 'NNP'), ('일간스포츠', 'NNP'), ('주간조선', 'NNP'), ('경기일보', 'NNP'), ('OSEN', 'NNP'), ('신동아', 'NNP'), ('더스쿠프', 'NNP'), ('주간동아', 'NNP'), ('월간 산', 'NNP'), ('뉴스타파', 'NNP')]\n"
     ]
    }
   ],
   "source": [
    "# 주어진 리스트\n",
    "media_list = ['경향신문', '연합뉴스', '뉴시스', '세계일보', '전자신문', '문화일보', '매경이코노미', 'KBS', '뉴스1',\n",
    "       '프레시안', '조선일보', '오마이뉴스', 'MBC', '국민일보', '미디어오늘', '한겨레', '아시아경제', '중앙일보',\n",
    "       '동아일보', '한국일보', '노컷뉴스', '매일신문', '헤럴드경제', '부산일보', 'YTN', '파이낸셜뉴스',\n",
    "       '데일리안', '머니S', '여성신문', '서울신문', '중앙SUNDAY', '머니투데이', '서울경제', '디지털타임스',\n",
    "       '매일경제', '이데일리', '일다', '시사저널', 'JTBC', '주간경향', '더팩트', 'SBS', '한겨레21',\n",
    "       '스포츠서울', '한국경제TV', '한국경제', '지디넷코리아', '기자협회보', 'TV조선', '연합뉴스TV', '조선비즈',\n",
    "       '스포츠조선', '시사IN', '아이뉴스24', '강원일보', '엑스포츠뉴스', '동아사이언스', '스타뉴스', '한경비즈니스',\n",
    "       'MBN', '마이데일리', 'SBS Biz', '코메디닷컴', '스포츠경향', '디지털데일리', '이코노미스트',\n",
    "       '스포츠동아', '조세일보', '채널A', '강원도민일보', '레이디경향', '국제신문', 'CJB청주방송', '대전일보',\n",
    "       '전주MBC', 'JIBS', '대구MBC', 'kbc광주방송', '블로터', '농민신문', '게임메카', '비즈워치',\n",
    "       '일간스포츠', '주간조선', '경기일보', 'OSEN', '신동아', '더스쿠프', '주간동아', '월간 산', '뉴스타파']\n",
    "\n",
    "# 각 항목을 튜플로 변환하고 'NNP'를 고정값으로 추가\n",
    "result = [(item, 'NNP') for item in media_list]\n",
    "\n",
    "# 결과 출력\n",
    "print(result)"
   ]
  },
  {
   "cell_type": "markdown",
   "id": "eeca9482-dc2b-4c16-b694-f9ead6a58a56",
   "metadata": {},
   "source": [
    "## datetime type 변경"
   ]
  },
  {
   "cell_type": "code",
   "execution_count": 43,
   "id": "8bba99ec-5aca-48c3-88bc-943a754c423e",
   "metadata": {},
   "outputs": [
    {
     "name": "stdout",
     "output_type": "stream",
     "text": [
      "<class 'pandas.core.frame.DataFrame'>\n",
      "RangeIndex: 10831 entries, 0 to 10830\n",
      "Data columns (total 5 columns):\n",
      " #   Column  Non-Null Count  Dtype         \n",
      "---  ------  --------------  -----         \n",
      " 0   media   10831 non-null  object        \n",
      " 1   date    10831 non-null  datetime64[ns]\n",
      " 2   title   10831 non-null  object        \n",
      " 3   body    10819 non-null  object        \n",
      " 4   link    10831 non-null  object        \n",
      "dtypes: datetime64[ns](1), object(4)\n",
      "memory usage: 423.2+ KB\n",
      "None\n"
     ]
    }
   ],
   "source": [
    "# '오전'과 '오후'를 각각 'AM'과 'PM'으로 변환\n",
    "df['date'] = df['date'].str.replace('오전', 'AM').str.replace('오후', 'PM')\n",
    "\n",
    "# date 열을 datetime 형식으로 변환\n",
    "df['date'] = pd.to_datetime(df['date'], format='%Y.%m.%d. %p %I:%M')\n",
    "\n",
    "# 변환된 데이터 타입 확인\n",
    "print(df.info())"
   ]
  },
  {
   "cell_type": "markdown",
   "id": "17b9a725-ee78-4c7d-a9e5-3aa55e9a2c95",
   "metadata": {},
   "source": [
    "## 특정 기간 데이터 추출"
   ]
  },
  {
   "cell_type": "code",
   "execution_count": 37,
   "id": "9792d46f-84ba-4b91-b729-f9e846faa37f",
   "metadata": {},
   "outputs": [
    {
     "data": {
      "text/html": [
       "<div>\n",
       "<style scoped>\n",
       "    .dataframe tbody tr th:only-of-type {\n",
       "        vertical-align: middle;\n",
       "    }\n",
       "\n",
       "    .dataframe tbody tr th {\n",
       "        vertical-align: top;\n",
       "    }\n",
       "\n",
       "    .dataframe thead th {\n",
       "        text-align: right;\n",
       "    }\n",
       "</style>\n",
       "<table border=\"1\" class=\"dataframe\">\n",
       "  <thead>\n",
       "    <tr style=\"text-align: right;\">\n",
       "      <th></th>\n",
       "      <th>media</th>\n",
       "      <th>date</th>\n",
       "      <th>title</th>\n",
       "      <th>body</th>\n",
       "      <th>link</th>\n",
       "    </tr>\n",
       "  </thead>\n",
       "  <tbody>\n",
       "    <tr>\n",
       "      <th>17</th>\n",
       "      <td>연합뉴스</td>\n",
       "      <td>2019-06-15 00:52:00</td>\n",
       "      <td>교황, 석유회사 CEO들에 \"기후 위기 대처에 즉각 나서라\"</td>\n",
       "      <td>교황청, 이틀에 걸쳐 석유회사 대표 등 초청해 기후변화 회의(로마=연합뉴스) 현윤경...</td>\n",
       "      <td>https://n.news.naver.com/mnews/article/001/001...</td>\n",
       "    </tr>\n",
       "    <tr>\n",
       "      <th>18</th>\n",
       "      <td>KBS</td>\n",
       "      <td>2019-06-15 04:31:00</td>\n",
       "      <td>교황, 석유회사 CEO들에 “기후 위기 대처에 즉각 나서라”</td>\n",
       "      <td>프란치스코 교황이 글로벌 대형 석유 회사들의 최고경영자(CEO)들에게 급격히 진행되...</td>\n",
       "      <td>https://n.news.naver.com/mnews/article/056/001...</td>\n",
       "    </tr>\n",
       "    <tr>\n",
       "      <th>19</th>\n",
       "      <td>연합뉴스</td>\n",
       "      <td>2019-06-19 16:50:00</td>\n",
       "      <td>\"북극 영구동토층 예상보다 70년 빨리 녹아…기후 위기 징후\"</td>\n",
       "      <td>美 알래스카대 연구팀 논문…\"현재 이후 5천년 이래 가장 따뜻\"\\n\\n\\n\\n'북극...</td>\n",
       "      <td>https://n.news.naver.com/mnews/article/001/001...</td>\n",
       "    </tr>\n",
       "    <tr>\n",
       "      <th>20</th>\n",
       "      <td>오마이뉴스</td>\n",
       "      <td>2019-06-19 19:24:00</td>\n",
       "      <td>\"여름철 누진제 완화? '냉방권' 보장 아닌 '기후위기' 초래\"</td>\n",
       "      <td>환경단체, '누진구간 확장안' 반대... 전기세 등 도입해 재생에너지 확대 주장[오...</td>\n",
       "      <td>https://n.news.naver.com/mnews/article/047/000...</td>\n",
       "    </tr>\n",
       "    <tr>\n",
       "      <th>21</th>\n",
       "      <td>뉴시스</td>\n",
       "      <td>2019-06-28 13:07:00</td>\n",
       "      <td>'트럼프 대통령에게 기후 위기 책임을 묻는다'</td>\n",
       "      <td>【서울=뉴시스】김진아 기자 = 녹색당 관계자들이 도널드 트럼프 미국 대통령 방한을 ...</td>\n",
       "      <td>https://n.news.naver.com/mnews/article/003/000...</td>\n",
       "    </tr>\n",
       "  </tbody>\n",
       "</table>\n",
       "</div>"
      ],
      "text/plain": [
       "    media                date                                title  \\\n",
       "17   연합뉴스 2019-06-15 00:52:00    교황, 석유회사 CEO들에 \"기후 위기 대처에 즉각 나서라\"   \n",
       "18    KBS 2019-06-15 04:31:00    교황, 석유회사 CEO들에 “기후 위기 대처에 즉각 나서라”   \n",
       "19   연합뉴스 2019-06-19 16:50:00   \"북극 영구동토층 예상보다 70년 빨리 녹아…기후 위기 징후\"   \n",
       "20  오마이뉴스 2019-06-19 19:24:00  \"여름철 누진제 완화? '냉방권' 보장 아닌 '기후위기' 초래\"   \n",
       "21    뉴시스 2019-06-28 13:07:00            '트럼프 대통령에게 기후 위기 책임을 묻는다'   \n",
       "\n",
       "                                                 body  \\\n",
       "17  교황청, 이틀에 걸쳐 석유회사 대표 등 초청해 기후변화 회의(로마=연합뉴스) 현윤경...   \n",
       "18  프란치스코 교황이 글로벌 대형 석유 회사들의 최고경영자(CEO)들에게 급격히 진행되...   \n",
       "19  美 알래스카대 연구팀 논문…\"현재 이후 5천년 이래 가장 따뜻\"\\n\\n\\n\\n'북극...   \n",
       "20  환경단체, '누진구간 확장안' 반대... 전기세 등 도입해 재생에너지 확대 주장[오...   \n",
       "21  【서울=뉴시스】김진아 기자 = 녹색당 관계자들이 도널드 트럼프 미국 대통령 방한을 ...   \n",
       "\n",
       "                                                 link  \n",
       "17  https://n.news.naver.com/mnews/article/001/001...  \n",
       "18  https://n.news.naver.com/mnews/article/056/001...  \n",
       "19  https://n.news.naver.com/mnews/article/001/001...  \n",
       "20  https://n.news.naver.com/mnews/article/047/000...  \n",
       "21  https://n.news.naver.com/mnews/article/003/000...  "
      ]
     },
     "execution_count": 37,
     "metadata": {},
     "output_type": "execute_result"
    }
   ],
   "source": [
    "df_filtered = df[df['date'].between('2015-07-01', '2019-06-30')]\n",
    "df_filtered.tail()"
   ]
  },
  {
   "cell_type": "code",
   "execution_count": 39,
   "id": "f5238ca9-5fe6-48a3-83a5-d8400eeba482",
   "metadata": {},
   "outputs": [],
   "source": [
    "def save_quarterly_data(df, start_date, end_date, output_prefix):\n",
    "    # 데이터 프레임을 주어진 기간으로 필터링\n",
    "    df_filtered = df[df['date'].between(start_date, end_date)]\n",
    "\n",
    "    # 각 분기를 설정\n",
    "    quarters = [\n",
    "        ('2015-07-01', '2019-06-30'),\n",
    "        ('2019-07-01', '2020-06-30'),\n",
    "        ('2020-07-01', '2021-06-30'),\n",
    "        ('2021-07-01', '2022-06-30'),\n",
    "        ('2022-07-01', '2023-06-30'),\n",
    "        ('2023-07-01', '2024-06-30')\n",
    "    ]\n",
    "\n",
    "    # 각 분기별로 데이터를 필터링하고 엑셀 파일로 저장\n",
    "    for i, (start, end) in enumerate(quarters):\n",
    "        # 분기별 데이터 필터링\n",
    "        df_quarter = df_filtered[df_filtered['date'].between(start, end)]\n",
    "        \n",
    "        # 엑셀 파일 이름 설정\n",
    "        output_file = f\"{output_prefix}_Q{i+1}_{start.replace('-', '')}_to_{end.replace('-', '')}.xlsx\"\n",
    "        \n",
    "        # 엑셀 파일로 저장\n",
    "        df_quarter.to_excel(output_file, index=False)\n",
    "\n",
    "# 사용 예시\n",
    "# df는 이전에 정의된 데이터프레임\n",
    "save_quarterly_data(df, '2015-07-01', '2024-06-30', 'quarterly_data')"
   ]
  },
  {
   "cell_type": "markdown",
   "id": "6fc6e478-97d6-4a60-b4bc-16eb9c5bc786",
   "metadata": {},
   "source": [
    "## 특정 언론사 추출"
   ]
  },
  {
   "cell_type": "code",
   "execution_count": 46,
   "id": "7526b51c-aa25-4f90-9cb6-5f32476a014e",
   "metadata": {},
   "outputs": [
    {
     "name": "stdout",
     "output_type": "stream",
     "text": [
      "Saved: media_data_경향신문.xlsx\n",
      "Saved: media_data_연합뉴스.xlsx\n",
      "Saved: media_data_뉴시스.xlsx\n",
      "Saved: media_data_세계일보.xlsx\n",
      "Saved: media_data_전자신문.xlsx\n",
      "Saved: media_data_문화일보.xlsx\n",
      "Saved: media_data_매경이코노미.xlsx\n",
      "Saved: media_data_KBS.xlsx\n",
      "Saved: media_data_뉴스1.xlsx\n",
      "Saved: media_data_프레시안.xlsx\n",
      "Saved: media_data_조선일보.xlsx\n",
      "Saved: media_data_오마이뉴스.xlsx\n",
      "Saved: media_data_MBC.xlsx\n",
      "Saved: media_data_국민일보.xlsx\n",
      "Saved: media_data_미디어오늘.xlsx\n",
      "Saved: media_data_한겨레.xlsx\n",
      "Saved: media_data_아시아경제.xlsx\n",
      "Saved: media_data_중앙일보.xlsx\n",
      "Saved: media_data_동아일보.xlsx\n",
      "Saved: media_data_한국일보.xlsx\n",
      "Saved: media_data_노컷뉴스.xlsx\n",
      "Saved: media_data_매일신문.xlsx\n",
      "Saved: media_data_헤럴드경제.xlsx\n",
      "Saved: media_data_부산일보.xlsx\n",
      "Saved: media_data_YTN.xlsx\n",
      "Saved: media_data_파이낸셜뉴스.xlsx\n",
      "Saved: media_data_데일리안.xlsx\n",
      "Saved: media_data_머니S.xlsx\n",
      "Saved: media_data_여성신문.xlsx\n",
      "Saved: media_data_서울신문.xlsx\n",
      "Saved: media_data_중앙SUNDAY.xlsx\n",
      "Saved: media_data_머니투데이.xlsx\n",
      "Saved: media_data_서울경제.xlsx\n",
      "Saved: media_data_디지털타임스.xlsx\n",
      "Saved: media_data_매일경제.xlsx\n",
      "Saved: media_data_이데일리.xlsx\n",
      "Saved: media_data_일다.xlsx\n",
      "Saved: media_data_시사저널.xlsx\n",
      "Saved: media_data_JTBC.xlsx\n",
      "Saved: media_data_주간경향.xlsx\n",
      "Saved: media_data_더팩트.xlsx\n",
      "Saved: media_data_SBS.xlsx\n",
      "Saved: media_data_한겨레21.xlsx\n",
      "Saved: media_data_스포츠서울.xlsx\n",
      "Saved: media_data_한국경제TV.xlsx\n",
      "Saved: media_data_한국경제.xlsx\n",
      "Saved: media_data_지디넷코리아.xlsx\n",
      "Saved: media_data_기자협회보.xlsx\n",
      "Saved: media_data_TV조선.xlsx\n",
      "Saved: media_data_연합뉴스TV.xlsx\n",
      "Saved: media_data_조선비즈.xlsx\n",
      "Saved: media_data_스포츠조선.xlsx\n",
      "Saved: media_data_시사IN.xlsx\n",
      "Saved: media_data_아이뉴스24.xlsx\n",
      "Saved: media_data_강원일보.xlsx\n",
      "Saved: media_data_엑스포츠뉴스.xlsx\n",
      "Saved: media_data_동아사이언스.xlsx\n",
      "Saved: media_data_스타뉴스.xlsx\n",
      "Saved: media_data_한경비즈니스.xlsx\n",
      "Saved: media_data_MBN.xlsx\n",
      "Saved: media_data_마이데일리.xlsx\n",
      "Saved: media_data_SBS Biz.xlsx\n",
      "Saved: media_data_코메디닷컴.xlsx\n",
      "Saved: media_data_스포츠경향.xlsx\n",
      "Saved: media_data_디지털데일리.xlsx\n",
      "Saved: media_data_이코노미스트.xlsx\n",
      "Saved: media_data_스포츠동아.xlsx\n",
      "Saved: media_data_조세일보.xlsx\n",
      "Saved: media_data_채널A.xlsx\n",
      "Saved: media_data_강원도민일보.xlsx\n",
      "Saved: media_data_레이디경향.xlsx\n",
      "Saved: media_data_국제신문.xlsx\n",
      "Saved: media_data_CJB청주방송.xlsx\n",
      "Saved: media_data_대전일보.xlsx\n",
      "Saved: media_data_전주MBC.xlsx\n",
      "Saved: media_data_JIBS.xlsx\n",
      "Saved: media_data_대구MBC.xlsx\n",
      "Saved: media_data_kbc광주방송.xlsx\n",
      "Saved: media_data_블로터.xlsx\n",
      "Saved: media_data_농민신문.xlsx\n",
      "Saved: media_data_게임메카.xlsx\n",
      "Saved: media_data_비즈워치.xlsx\n",
      "Saved: media_data_일간스포츠.xlsx\n",
      "Saved: media_data_주간조선.xlsx\n",
      "Saved: media_data_경기일보.xlsx\n",
      "Saved: media_data_OSEN.xlsx\n",
      "Saved: media_data_신동아.xlsx\n",
      "Saved: media_data_더스쿠프.xlsx\n",
      "Saved: media_data_주간동아.xlsx\n",
      "Saved: media_data_월간 산.xlsx\n",
      "Saved: media_data_뉴스타파.xlsx\n"
     ]
    }
   ],
   "source": [
    "def save_media_data(df, media_list, output_prefix):\n",
    "    for media in media_list:\n",
    "        # 각 언론사에 해당하는 데이터 필터링\n",
    "        df_filtered = df.loc[df['media'] == media]\n",
    "        \n",
    "        # 엑셀 파일 이름 설정\n",
    "        output_file = f\"{output_prefix}_{media}.xlsx\"\n",
    "        \n",
    "        # 엑셀 파일로 저장\n",
    "        df_filtered.to_excel(output_file, index=False)\n",
    "        \n",
    "        print(f\"Saved: {output_file}\")\n",
    "\n",
    "# 사용 예시\n",
    "media_list = ['경향신문', '연합뉴스', '뉴시스', '세계일보', '전자신문', '문화일보', '매경이코노미', 'KBS', '뉴스1',\n",
    "              '프레시안', '조선일보', '오마이뉴스', 'MBC', '국민일보', '미디어오늘', '한겨레', '아시아경제', '중앙일보',\n",
    "              '동아일보', '한국일보', '노컷뉴스', '매일신문', '헤럴드경제', '부산일보', 'YTN', '파이낸셜뉴스',\n",
    "              '데일리안', '머니S', '여성신문', '서울신문', '중앙SUNDAY', '머니투데이', '서울경제', '디지털타임스',\n",
    "              '매일경제', '이데일리', '일다', '시사저널', 'JTBC', '주간경향', '더팩트', 'SBS', '한겨레21',\n",
    "              '스포츠서울', '한국경제TV', '한국경제', '지디넷코리아', '기자협회보', 'TV조선', '연합뉴스TV', '조선비즈',\n",
    "              '스포츠조선', '시사IN', '아이뉴스24', '강원일보', '엑스포츠뉴스', '동아사이언스', '스타뉴스', '한경비즈니스',\n",
    "              'MBN', '마이데일리', 'SBS Biz', '코메디닷컴', '스포츠경향', '디지털데일리', '이코노미스트',\n",
    "              '스포츠동아', '조세일보', '채널A', '강원도민일보', '레이디경향', '국제신문', 'CJB청주방송', '대전일보',\n",
    "              '전주MBC', 'JIBS', '대구MBC', 'kbc광주방송', '블로터', '농민신문', '게임메카', '비즈워치',\n",
    "              '일간스포츠', '주간조선', '경기일보', 'OSEN', '신동아', '더스쿠프', '주간동아', '월간 산', '뉴스타파']\n",
    "\n",
    "# df는 이전에 정의된 데이터프레임\n",
    "save_media_data(df, media_list, 'media_data')"
   ]
  },
  {
   "cell_type": "code",
   "execution_count": 48,
   "id": "9ea3eedb-1304-41e3-bb14-dfdb126a9165",
   "metadata": {},
   "outputs": [],
   "source": [
    "import pandas as pd\n",
    "\n",
    "# 언론사 리스트를 지정\n",
    "media_group_1 = ['경향신문', '한겨레21', '한겨레']\n",
    "media_group_2 = ['동아일보', '조선일보', '중앙일보', '한국일보']\n",
    "\n",
    "def save_media_groups(df, media_group_1, media_group_2):\n",
    "    # 첫 번째 그룹 필터링 및 저장\n",
    "    df_group_1 = df[df['media'].isin(media_group_1)]\n",
    "    df_group_1.to_excel('media_group_1.xlsx', index=False)\n",
    "    \n",
    "    # 두 번째 그룹 필터링 및 저장\n",
    "    df_group_2 = df[df['media'].isin(media_group_2)]\n",
    "    df_group_2.to_excel('media_group_2.xlsx', index=False)\n",
    "\n",
    "# 사용 예시\n",
    "# df는 이전에 정의된 데이터프레임\n",
    "save_media_groups(df, media_group_1, media_group_2)"
   ]
  }
 ],
 "metadata": {
  "kernelspec": {
   "display_name": "Python 3 (ipykernel)",
   "language": "python",
   "name": "python3"
  },
  "language_info": {
   "codemirror_mode": {
    "name": "ipython",
    "version": 3
   },
   "file_extension": ".py",
   "mimetype": "text/x-python",
   "name": "python",
   "nbconvert_exporter": "python",
   "pygments_lexer": "ipython3",
   "version": "3.12.4"
  }
 },
 "nbformat": 4,
 "nbformat_minor": 5
}
